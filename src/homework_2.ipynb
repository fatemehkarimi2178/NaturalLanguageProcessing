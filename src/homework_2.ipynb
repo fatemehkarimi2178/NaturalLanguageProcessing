{
 "cells": [
  {
   "cell_type": "markdown",
   "id": "1f481ba6",
   "metadata": {},
   "source": [
    "# \n",
    "\n",
    "- **Questions**: [Here](../data/homework_2/HW.pdf)\n",
    "- **Answer Set** : NO. 02\n",
    "- **Full Name** : Fatemeh Karimi Barikarasfi\n",
    "- **Student Code** : 610301060\n",
    "\n",
    "In this homework, Hidden Markov Model and Viterbi algorithm are used for Part of Speech Tagging problem.\n",
    "\n",
    "[Dataset](../data/homework_2/dataset)\n",
    "\n",
    "## Importing Needed Libraries"
   ]
  },
  {
   "cell_type": "code",
   "execution_count": 1,
   "id": "06eec166",
   "metadata": {},
   "outputs": [],
   "source": [
    "import warnings\n",
    "import numpy as np\n",
    "import pandas as pd\n",
    "import sklearn as sk\n",
    "import matplotlib.pyplot as plt\n",
    "\n",
    "import nltk as nltk\n",
    "import nltk.corpus.reader.conll as nltkconll\n",
    "\n",
    "warnings.filterwarnings(\"ignore\", category=UserWarning)"
   ]
  },
  {
   "cell_type": "markdown",
   "id": "a08c9b16",
   "metadata": {},
   "source": [
    "## Loading dataset\n",
    "\n",
    "For loading dataset nltk.corpus.reader.conll is used."
   ]
  },
  {
   "cell_type": "code",
   "execution_count": 2,
   "id": "020e215e",
   "metadata": {},
   "outputs": [],
   "source": [
    "train_reader = nltkconll.ConllCorpusReader(\".\", [\"Train.txt\"], (\"words\", \"pos\"))\n",
    "test_reader = nltkconll.ConllCorpusReader(\".\", [\"Test.txt\"], (\"words\",))\n",
    "val_reader = nltkconll.ConllCorpusReader(\".\", [\"Val.txt\"], (\"words\", \"pos\"))"
   ]
  },
  {
   "cell_type": "markdown",
   "id": "707815f4",
   "metadata": {},
   "source": [
    "Sentences of train, validation, and test data:"
   ]
  },
  {
   "cell_type": "code",
   "execution_count": 3,
   "id": "de147507",
   "metadata": {},
   "outputs": [],
   "source": [
    "train_sents = list(train_reader.sents())\n",
    "test_sents = list(test_reader.sents())\n",
    "val_sents = list(val_reader.sents())"
   ]
  },
  {
   "cell_type": "markdown",
   "id": "dfc22bc1",
   "metadata": {},
   "source": [
    "For instance, third sentence of train dataset is shown below:"
   ]
  },
  {
   "cell_type": "code",
   "execution_count": 4,
   "id": "bc538bf1",
   "metadata": {},
   "outputs": [
    {
     "data": {
      "text/plain": [
       "['صورتهاي',\n",
       " 'گسترشيافته',\n",
       " 'و',\n",
       " 'نيز',\n",
       " 'الگوي',\n",
       " 'برجستگي',\n",
       " 'هر',\n",
       " 'كدام',\n",
       " 'از',\n",
       " 'انواع',\n",
       " 'فعلها',\n",
       " 'را',\n",
       " 'بدون',\n",
       " 'در',\n",
       " 'نظر',\n",
       " 'گرفتن',\n",
       " 'ويژگيهاي',\n",
       " 'زيرمقوله',\n",
       " 'آنها',\n",
       " 'در',\n",
       " 'بالا',\n",
       " 'ديديم',\n",
       " '.']"
      ]
     },
     "execution_count": 4,
     "metadata": {},
     "output_type": "execute_result"
    }
   ],
   "source": [
    "train_sents[2]"
   ]
  },
  {
   "cell_type": "markdown",
   "id": "e42e7f48",
   "metadata": {},
   "source": [
    "(Word, Tag) pair:"
   ]
  },
  {
   "cell_type": "code",
   "execution_count": 5,
   "id": "7a427c34",
   "metadata": {},
   "outputs": [],
   "source": [
    "train_word_tag = list(train_reader.tagged_sents())\n",
    "val_word_tag = list(val_reader.tagged_sents())"
   ]
  },
  {
   "cell_type": "code",
   "execution_count": 6,
   "id": "8ea4d7a9",
   "metadata": {},
   "outputs": [
    {
     "data": {
      "text/plain": [
       "[('صورتهاي', 'N'),\n",
       " ('گسترشيافته', 'ADJ'),\n",
       " ('و', 'CON'),\n",
       " ('نيز', 'CON'),\n",
       " ('الگوي', 'N'),\n",
       " ('برجستگي', 'N'),\n",
       " ('هر', 'QUA'),\n",
       " ('كدام', 'N'),\n",
       " ('از', 'P'),\n",
       " ('انواع', 'N'),\n",
       " ('فعلها', 'N'),\n",
       " ('را', 'P'),\n",
       " ('بدون', 'P'),\n",
       " ('در', 'P'),\n",
       " ('نظر', 'N'),\n",
       " ('گرفتن', 'N'),\n",
       " ('ويژگيهاي', 'N'),\n",
       " ('زيرمقوله', 'ADJ'),\n",
       " ('آنها', 'PRO'),\n",
       " ('در', 'P'),\n",
       " ('بالا', 'N'),\n",
       " ('ديديم', 'V'),\n",
       " ('.', 'DELM')]"
      ]
     },
     "execution_count": 6,
     "metadata": {},
     "output_type": "execute_result"
    }
   ],
   "source": [
    "train_word_tag[2]"
   ]
  },
  {
   "cell_type": "markdown",
   "id": "9de26e74",
   "metadata": {},
   "source": [
    "Words and tags are seperated:"
   ]
  },
  {
   "cell_type": "code",
   "execution_count": 7,
   "id": "76d17210",
   "metadata": {},
   "outputs": [],
   "source": [
    "train_words = [word for sent in train_reader.tagged_sents() for (word, _) in sent]\n",
    "train_tags = [tag for sent in train_reader.tagged_sents() for (_, tag) in sent]\n",
    "\n",
    "val_words = [word for sent in val_reader.tagged_sents() for (word, _) in sent]\n",
    "val_tags = [tag for sent in val_reader.tagged_sents() for (_, tag) in sent]\n",
    "\n",
    "test_words = test_reader.words()"
   ]
  },
  {
   "cell_type": "markdown",
   "id": "a29d4439",
   "metadata": {},
   "source": [
    "Number of unique tags in train dataset:"
   ]
  },
  {
   "cell_type": "code",
   "execution_count": 10,
   "id": "bf8b8c96",
   "metadata": {},
   "outputs": [
    {
     "data": {
      "text/plain": [
       "23"
      ]
     },
     "execution_count": 10,
     "metadata": {},
     "output_type": "execute_result"
    }
   ],
   "source": [
    "len(dict(nltk.FreqDist(train_tags)).keys())"
   ]
  },
  {
   "cell_type": "markdown",
   "id": "0ec594c8",
   "metadata": {},
   "source": [
    "Number of unique words in train dataset:"
   ]
  },
  {
   "cell_type": "code",
   "execution_count": 11,
   "id": "bf302b74",
   "metadata": {},
   "outputs": [
    {
     "data": {
      "text/plain": [
       "18949"
      ]
     },
     "execution_count": 11,
     "metadata": {},
     "output_type": "execute_result"
    }
   ],
   "source": [
    "len(nltk.FreqDist(train_words))"
   ]
  },
  {
   "cell_type": "markdown",
   "id": "7fa96597",
   "metadata": {},
   "source": [
    "Number of unique words in test dataset:"
   ]
  },
  {
   "cell_type": "code",
   "execution_count": 12,
   "id": "5e0d87a6",
   "metadata": {},
   "outputs": [
    {
     "data": {
      "text/plain": [
       "10594"
      ]
     },
     "execution_count": 12,
     "metadata": {},
     "output_type": "execute_result"
    }
   ],
   "source": [
    "len(nltk.FreqDist(test_words))"
   ]
  },
  {
   "cell_type": "markdown",
   "id": "01c5a820",
   "metadata": {},
   "source": [
    "Number of unique words in validation dataset:"
   ]
  },
  {
   "cell_type": "code",
   "execution_count": 13,
   "id": "14a5e1e1",
   "metadata": {},
   "outputs": [
    {
     "data": {
      "text/plain": [
       "16235"
      ]
     },
     "execution_count": 13,
     "metadata": {},
     "output_type": "execute_result"
    }
   ],
   "source": [
    "len(nltk.FreqDist(val_words))"
   ]
  },
  {
   "cell_type": "markdown",
   "id": "0360656f",
   "metadata": {},
   "source": [
    "Words that are not in train dataset but accur in test and validation dataset:"
   ]
  },
  {
   "cell_type": "code",
   "execution_count": null,
   "id": "c4259ca1",
   "metadata": {},
   "outputs": [],
   "source": [
    "unique_train_words = list(nltk.FreqDist(train_words).keys())\n",
    "\n",
    "oov_train_words = [w for w in list(nltk.FreqDist(train_words).keys()) if w not in unique_train_words]\n",
    "oov_test_words = [w for w in list(nltk.FreqDist(test_words).keys()) if w not in unique_train_words]\n",
    "oov_val_words = [w for w in list(nltk.FreqDist(val_words).keys()) if w not in unique_train_words]"
   ]
  },
  {
   "cell_type": "markdown",
   "id": "4aa8ef61",
   "metadata": {},
   "source": [
    "Percentage of unique words that are in test dataset, but not in train dataset:"
   ]
  },
  {
   "cell_type": "code",
   "execution_count": 16,
   "id": "97185569",
   "metadata": {},
   "outputs": [
    {
     "data": {
      "text/plain": [
       "0.4692278648291486"
      ]
     },
     "execution_count": 16,
     "metadata": {},
     "output_type": "execute_result"
    }
   ],
   "source": [
    "len(oov_test_words)\n",
    "len(oov_test_words) / len(list(nltk.FreqDist(test_words).keys()))"
   ]
  },
  {
   "cell_type": "markdown",
   "id": "f887f8a2",
   "metadata": {},
   "source": [
    "Percentage of unique words that are in validation dataset, but not in train dataset:"
   ]
  },
  {
   "cell_type": "code",
   "execution_count": 18,
   "id": "3fc8813e",
   "metadata": {},
   "outputs": [
    {
     "data": {
      "text/plain": [
       "0.5498614105327995"
      ]
     },
     "execution_count": 18,
     "metadata": {},
     "output_type": "execute_result"
    }
   ],
   "source": [
    "len(oov_val_words)\n",
    "len(oov_val_words) / len(list(nltk.FreqDist(val_words).keys()))"
   ]
  },
  {
   "cell_type": "markdown",
   "id": "68240f5a",
   "metadata": {},
   "source": [
    "## HMM\n",
    "\n",
    "In the following, some functions are written which are used in HMM and POSTagger classes.\n",
    "\n",
    "In HMM class, Add-k smoothing technique is used for calculating probability."
   ]
  },
  {
   "cell_type": "code",
   "execution_count": 19,
   "id": "3dd938d7",
   "metadata": {},
   "outputs": [],
   "source": [
    "words_frequency = nltk.FreqDist(train_reader.words())\n",
    "\n",
    "def words_sents(reader):\n",
    "    yield [\"OOV\"]\n",
    "    for sent in reader.sents():\n",
    "        yield [\n",
    "            word if words_frequency.get(word) != None else \"OOV\" \n",
    "            for word in sent\n",
    "        ]\n",
    "\n",
    "def tags_sents(reader):\n",
    "    yield [\"N\"]\n",
    "    for sent in reader.tagged_sents():\n",
    "        yield [tag for (_, tag) in sent]"
   ]
  },
  {
   "cell_type": "code",
   "execution_count": 20,
   "id": "9be87542",
   "metadata": {},
   "outputs": [],
   "source": [
    "def label2id(labels):\n",
    "    label_encoder = dict()\n",
    "    i = 0\n",
    "    for item in labels:\n",
    "        if item not in label_encoder.keys():\n",
    "            label_encoder[item] = i\n",
    "            i = i + 1     \n",
    "    return label_encoder\n",
    "\n",
    "def encoder(text, labels):\n",
    "    encoder = []\n",
    "    for w in text:\n",
    "        encoder.append(labels[w])\n",
    "    return encoder    \n",
    "    \n",
    "def id2label(code, labels):\n",
    "    for k, v in labels.items():\n",
    "        if v == code:\n",
    "            return k\n",
    "\n",
    "def decoder(text, labels):\n",
    "    decoder = []\n",
    "    for w in text:\n",
    "        decoder.append(id2label(w, labels))\n",
    "    return decoder"
   ]
  },
  {
   "cell_type": "code",
   "execution_count": 21,
   "id": "2114a71b",
   "metadata": {},
   "outputs": [],
   "source": [
    "def ngram(tokens, n):\n",
    "    return [tuple(tokens[i: i+n]) for i in range(len(tokens) - n + 1)]"
   ]
  },
  {
   "cell_type": "code",
   "execution_count": 22,
   "id": "81efb33d",
   "metadata": {},
   "outputs": [],
   "source": [
    "def accuracy(pred_tags, true_tags):\n",
    "    return sum([\n",
    "        1 if pred_tags[i] == true_tags[i] else 0\n",
    "        for i in range(len(pred_tags))\n",
    "    ]) / len(pred_tags)"
   ]
  },
  {
   "cell_type": "code",
   "execution_count": 23,
   "id": "757a3f4e",
   "metadata": {},
   "outputs": [],
   "source": [
    "def add_k(c, k):\n",
    "    p = np.zeros(c.shape, dtype='float')\n",
    "    p = c + k\n",
    "    for i in range(len(p)):\n",
    "        p[i] = p[i] / sum(p[i]) \n",
    "    \n",
    "    return p"
   ]
  },
  {
   "cell_type": "code",
   "execution_count": 24,
   "id": "e35b9a6c",
   "metadata": {},
   "outputs": [],
   "source": [
    "class HMM:    \n",
    "    def calcPi(self, X, Y, k):\n",
    "        Pi = np.zeros(self.states)\n",
    "        for seq in Y:\n",
    "            Pi[seq[0]] = Pi[seq[0]] + 1\n",
    "        \n",
    "        return Pi\n",
    "    \n",
    "    def calcA(self, X, Y, k):\n",
    "        bigrams = [bigram for seq in Y for bigram in ngram(seq, 2)]\n",
    "        A = np.zeros((self.states, self.states))\n",
    "        for bigram in bigrams:\n",
    "            A[bigram] = A[bigram] + 1\n",
    "        \n",
    "        return add_k(A, k)\n",
    "\n",
    "    def calcB(self, X, Y, k):\n",
    "        flatX = [x for seq in X for x in seq]\n",
    "        flatY = [y for seq in Y for y in seq]\n",
    "\n",
    "        B = np.zeros((len(list(nltk.FreqDist(flatY).keys())), len(list(nltk.FreqDist(flatX).keys()))))\n",
    "        for i in range(len(flatX)):\n",
    "            B[flatY[i]][flatX[i]] = B[flatY[i]][flatX[i]] + 1\n",
    "        \n",
    "        return add_k(B, k)\n",
    "\n",
    "    def calcDeltaPsi(self, x):\n",
    "        Delta = np.zeros((self.states, len(x)))\n",
    "        Psi = np.zeros((self.states, len(x)))\n",
    "        for i in range(self.states):\n",
    "            Delta[i][0] = np.log(self.Pi[i]) + np.log(self.B[i][x[0]])\n",
    "        \n",
    "        for t in range(1, len(x)):\n",
    "            for j in range(self.states):\n",
    "                Delta[j][t] = max([Delta[i][t-1] + np.log(self.A[i][j]) for i in range(self.states)])\n",
    "                Psi[j][t] = np.argmax([Delta[i][t-1] + np.log(self.A[i][j]) for i in range(self.states)])\n",
    "                Delta[j][t] = Delta[j][t] + np.log(self.B[j][x[t]])\n",
    "        return Delta, Psi\n",
    "\n",
    "    def fit(self, X, Y, k):\n",
    "        flatY = [y for seq in Y for y in seq]\n",
    "        self.states = len(set(flatY))\n",
    "\n",
    "        self.Pi = self.calcPi(X, Y, k)\n",
    "        self.A = self.calcA(X, Y, k)\n",
    "        self.B = self.calcB(X, Y, k)\n",
    "\n",
    "    def predict(self, x):\n",
    "        Delta, Psi = self.calcDeltaPsi(x)\n",
    "\n",
    "        T = len(x)\n",
    "        path = np.zeros(T, dtype=int)\n",
    "        path[T-1] = int(np.argmax(Delta[:, T-1]))\n",
    "        t = T - 2\n",
    "        while (t > 0):\n",
    "            path[t] = Psi[int(path[t+1])][t+1]\n",
    "            t = t - 1\n",
    "        \n",
    "        return path"
   ]
  },
  {
   "cell_type": "code",
   "execution_count": 25,
   "id": "c9e97d1d",
   "metadata": {},
   "outputs": [],
   "source": [
    "class POSTagger(HMM):\n",
    "\n",
    "    def fit(self, reader, k):\n",
    "        flatWords = [word for seq in words_sents(reader) for word in seq]\n",
    "        flatTags = [tag for seq in tags_sents(reader) for tag in seq]\n",
    "        \n",
    "        self.words_label2id = label2id(list(nltk.FreqDist(flatWords).keys()))\n",
    "        self.tags_label2id = label2id(list(nltk.FreqDist(flatTags).keys()))\n",
    "        \n",
    "        super(POSTagger, self).fit(\n",
    "            [encoder(seq, self.words_label2id) for seq in words_sents(reader)], \n",
    "            [encoder(seq, self.tags_label2id) for seq in tags_sents(reader)], k\n",
    "        )\n",
    "\n",
    "    def predict(self, reader):\n",
    "        words = words_sents(reader)\n",
    "        \n",
    "        return [\n",
    "            decoder(super(POSTagger, self).predict(encoder(seq, self.words_label2id)), self.tags_label2id)\n",
    "            for seq in words\n",
    "        ]"
   ]
  },
  {
   "cell_type": "markdown",
   "id": "5b00785c",
   "metadata": {},
   "source": [
    "## Models\n",
    "\n",
    "In this section, several HMM models have been implemented for different values of k."
   ]
  },
  {
   "cell_type": "code",
   "execution_count": 26,
   "id": "b48b7969",
   "metadata": {},
   "outputs": [],
   "source": [
    "val_true_tags = [tag for seq in tags_sents(val_reader) for tag in seq]\n",
    "train_true_tags = [tag for seq in tags_sents(train_reader) for tag in seq]"
   ]
  },
  {
   "cell_type": "markdown",
   "id": "599a2b49",
   "metadata": {},
   "source": [
    "### k = 1"
   ]
  },
  {
   "cell_type": "code",
   "execution_count": 42,
   "id": "57e3a3cb",
   "metadata": {},
   "outputs": [
    {
     "name": "stdout",
     "output_type": "stream",
     "text": [
      "Train Accuracy =  93.30472103004291 and, Validation Accuracy =  89.8624702604988\n"
     ]
    }
   ],
   "source": [
    "tagger_1 = POSTagger()\n",
    "tagger_1.fit(train_reader, 1)\n",
    "\n",
    "pred_tags = [tag for seq in tagger_1.predict(val_reader) for tag in seq]\n",
    "val_acc_1 = accuracy(pred_tags, val_true_tags) * 100\n",
    "\n",
    "pred_tags = [tag for seq in tagger_1.predict(train_reader) for tag in seq]\n",
    "train_acc_1 = accuracy(pred_tags, train_true_tags) * 100\n",
    "\n",
    "print('Train Accuracy = ', train_acc_1, 'and, Validation Accuracy = ', val_acc_1)"
   ]
  },
  {
   "cell_type": "markdown",
   "id": "a4923342",
   "metadata": {},
   "source": [
    "### k = 0.1"
   ]
  },
  {
   "cell_type": "code",
   "execution_count": 43,
   "id": "3a4ff3a1",
   "metadata": {},
   "outputs": [
    {
     "name": "stdout",
     "output_type": "stream",
     "text": [
      "Train Accuracy =  95.52724263361496 and, Validation Accuracy =  93.60648801903328\n"
     ]
    }
   ],
   "source": [
    "tagger_2 = POSTagger()\n",
    "tagger_2.fit(train_reader, 0.1)\n",
    "\n",
    "pred_tags = [tag for seq in tagger_2.predict(val_reader) for tag in seq]\n",
    "val_acc_2 = accuracy(pred_tags, val_true_tags) * 100\n",
    "\n",
    "pred_tags = [tag for seq in tagger_2.predict(train_reader) for tag in seq]\n",
    "train_acc_2 = accuracy(pred_tags, train_true_tags) * 100\n",
    "\n",
    "print('Train Accuracy = ', train_acc_2, 'and, Validation Accuracy = ', val_acc_2)"
   ]
  },
  {
   "cell_type": "markdown",
   "id": "8682ad8d",
   "metadata": {},
   "source": [
    "### k = 0.01"
   ]
  },
  {
   "cell_type": "code",
   "execution_count": 44,
   "id": "b673397a",
   "metadata": {},
   "outputs": [
    {
     "name": "stdout",
     "output_type": "stream",
     "text": [
      "Train Accuracy =  95.8536538424527 and, Validation Accuracy =  94.65925262504327\n"
     ]
    }
   ],
   "source": [
    "tagger_3 = POSTagger()\n",
    "tagger_3.fit(train_reader, 0.01)\n",
    "\n",
    "pred_tags = [tag for seq in tagger_3.predict(val_reader) for tag in seq]\n",
    "val_acc_3 = accuracy(pred_tags, val_true_tags) * 100\n",
    "\n",
    "pred_tags = [tag for seq in tagger_3.predict(train_reader) for tag in seq]\n",
    "train_acc_3 = accuracy(pred_tags, train_true_tags) * 100\n",
    "\n",
    "print('Train Accuracy = ', train_acc_3, 'and, Validation Accuracy = ', val_acc_3)"
   ]
  },
  {
   "cell_type": "markdown",
   "id": "a2f222ef",
   "metadata": {},
   "source": [
    "### k = 0.001"
   ]
  },
  {
   "cell_type": "code",
   "execution_count": 45,
   "id": "e966b9c7",
   "metadata": {},
   "outputs": [
    {
     "name": "stdout",
     "output_type": "stream",
     "text": [
      "Train Accuracy =  95.86443157104641 and, Validation Accuracy =  94.68068154969588\n"
     ]
    }
   ],
   "source": [
    "tagger_4 = POSTagger()\n",
    "tagger_4.fit(train_reader, 0.001)\n",
    "\n",
    "pred_tags = [tag for seq in tagger_4.predict(val_reader) for tag in seq]\n",
    "val_acc_4 = accuracy(pred_tags, val_true_tags) * 100\n",
    "\n",
    "pred_tags = [tag for seq in tagger_4.predict(train_reader) for tag in seq]\n",
    "train_acc_4 = accuracy(pred_tags, train_true_tags) * 100\n",
    "\n",
    "print('Train Accuracy = ', train_acc_4, 'and, Validation Accuracy = ', val_acc_4)"
   ]
  },
  {
   "cell_type": "markdown",
   "id": "7505026e",
   "metadata": {},
   "source": [
    "### k = 0.0001"
   ]
  },
  {
   "cell_type": "code",
   "execution_count": 46,
   "id": "2f892e16",
   "metadata": {},
   "outputs": [
    {
     "name": "stdout",
     "output_type": "stream",
     "text": [
      "Train Accuracy =  95.86481648992475 and, Validation Accuracy =  94.67958263048291\n"
     ]
    }
   ],
   "source": [
    "tagger_5 = POSTagger()\n",
    "tagger_5.fit(train_reader, 0.0001)\n",
    "\n",
    "pred_tags = [tag for seq in tagger_5.predict(val_reader) for tag in seq]\n",
    "val_acc_5 = accuracy(pred_tags, val_true_tags) * 100\n",
    "\n",
    "pred_tags = [tag for seq in tagger_5.predict(train_reader) for tag in seq]\n",
    "train_acc_5 = accuracy(pred_tags, train_true_tags) * 100\n",
    "\n",
    "print('Train Accuracy = ', train_acc_5, 'and, Validation Accuracy = ', val_acc_5)"
   ]
  },
  {
   "cell_type": "markdown",
   "id": "8c2f33a3",
   "metadata": {},
   "source": [
    "### k = 0.00001"
   ]
  },
  {
   "cell_type": "code",
   "execution_count": 47,
   "id": "b8ad1c52",
   "metadata": {},
   "outputs": [
    {
     "name": "stdout",
     "output_type": "stream",
     "text": [
      "Train Accuracy =  95.86520140880309 and, Validation Accuracy =  94.67903317087645\n"
     ]
    }
   ],
   "source": [
    "tagger_6 = POSTagger()\n",
    "tagger_6.fit(train_reader, 0.00001)\n",
    "\n",
    "pred_tags = [tag for seq in tagger_6.predict(val_reader) for tag in seq]\n",
    "val_acc_6 = accuracy(pred_tags, val_true_tags) * 100\n",
    "\n",
    "pred_tags = [tag for seq in tagger_6.predict(train_reader) for tag in seq]\n",
    "train_acc_6 = accuracy(pred_tags, train_true_tags) * 100\n",
    "\n",
    "print('Train Accuracy = ', train_acc_6, 'and, Validation Accuracy = ', val_acc_6)"
   ]
  },
  {
   "cell_type": "markdown",
   "id": "31a34dea",
   "metadata": {},
   "source": [
    "### k = 0.00000001"
   ]
  },
  {
   "cell_type": "code",
   "execution_count": 48,
   "id": "38a4a082",
   "metadata": {},
   "outputs": [
    {
     "name": "stdout",
     "output_type": "stream",
     "text": [
      "Train Accuracy =  95.86520140880309 and, Validation Accuracy =  94.67958263048291\n"
     ]
    }
   ],
   "source": [
    "tagger_7 = POSTagger()\n",
    "tagger_7.fit(train_reader, 0.00000001)\n",
    "\n",
    "pred_tags = [tag for seq in tagger_7.predict(val_reader) for tag in seq]\n",
    "val_acc_7 = accuracy(pred_tags, val_true_tags) * 100\n",
    "\n",
    "pred_tags = [tag for seq in tagger_7.predict(train_reader) for tag in seq]\n",
    "train_acc_7 = accuracy(pred_tags, train_true_tags) * 100\n",
    "\n",
    "print('Train Accuracy = ', train_acc_7, 'and, Validation Accuracy = ', val_acc_7)"
   ]
  },
  {
   "cell_type": "markdown",
   "id": "e1886f74",
   "metadata": {},
   "source": [
    "Plot the Validation and Train Accuray of each models:"
   ]
  },
  {
   "cell_type": "code",
   "execution_count": 53,
   "id": "20e87efb",
   "metadata": {},
   "outputs": [
    {
     "data": {
      "image/png": "[encoded data removed]",
      "text/plain": [
       "<Figure size 500x400 with 1 Axes>"
      ]
     },
     "metadata": {
      "needs_background": "light"
     },
     "output_type": "display_data"
    }
   ],
   "source": [
    "val_acc = [val_acc_1, val_acc_2, val_acc_3, val_acc_4,\n",
    "          val_acc_5, val_acc_6, val_acc_7]\n",
    "\n",
    "train_acc = [train_acc_1, train_acc_2, train_acc_3, train_acc_4,\n",
    "            train_acc_5, train_acc_6, train_acc_7]\n",
    "\n",
    "plt.figure(figsize = (5, 4), dpi = 100)\n",
    "\n",
    "plt.scatter(range(0, 7), val_acc, label = 'Validation Accuracy')\n",
    "plt.scatter(range(0, 7), train_acc, label = 'Train Accuray')\n",
    "plt.legend()\n",
    "plt.grid()\n",
    "\n",
    "plt.show()"
   ]
  },
  {
   "cell_type": "markdown",
   "id": "7bc6281e",
   "metadata": {},
   "source": [
    "Model with k = 0.01 is chosen as the best model, and predict the test POS by it and save them:"
   ]
  },
  {
   "cell_type": "code",
   "execution_count": 65,
   "id": "60edba3e",
   "metadata": {},
   "outputs": [
    {
     "data": {
      "text/plain": [
       "217241"
      ]
     },
     "execution_count": 65,
     "metadata": {},
     "output_type": "execute_result"
    }
   ],
   "source": [
    "test_labels = [tag for seq in tagger_3.predict(test_reader) for tag in seq]\n",
    "f = open('./y_test.txt', 'w')\n",
    "f.write('\\n'.join(test_labels))"
   ]
  }
 ],
 "metadata": {
  "kernelspec": {
   "display_name": "Python 3",
   "language": "python",
   "name": "python3"
  },
  "language_info": {
   "codemirror_mode": {
    "name": "ipython",
    "version": 3
   },
   "file_extension": ".py",
   "mimetype": "text/x-python",
   "name": "python",
   "nbconvert_exporter": "python",
   "pygments_lexer": "ipython3",
   "version": "3.7.6"
  }
 },
 "nbformat": 4,
 "nbformat_minor": 5
}
