{
 "cells": [
  {
   "cell_type": "markdown",
   "id": "8cfd4d7b",
   "metadata": {},
   "source": [
    "# \n",
    "\n",
    "- **Questions**: [Here](../data/homework_3/HW.pdf)\n",
    "- **Answer Set** : NO. 03\n",
    "- **Full Name** : Fatemeh Karimi Barikarasfi\n",
    "- **Student Code** : 610301060\n",
    "\n",
    "The goal of this homework is design the model for text retrieval purpose based on the IDF-TF algorithm.\n",
    "\n",
    "[Lisa](../data/homework_3/lisa)\n",
    "\n",
    "## Importing Needed Libraries"
   ]
  },
  {
   "cell_type": "code",
   "execution_count": 1,
   "id": "c4b738af",
   "metadata": {},
   "outputs": [],
   "source": [
    "import numpy as np\n",
    "import pandas as pd\n",
    "import nltk as nltk\n",
    "import sklearn as sklearn\n",
    "import scipy.spatial as sp\n",
    "import matplotlib.pyplot as plt\n",
    "\n",
    "\n",
    "import warnings\n",
    "warnings.filterwarnings(\"ignore\", category=UserWarning)"
   ]
  },
  {
   "cell_type": "markdown",
   "id": "fc2e633a",
   "metadata": {},
   "source": [
    "## importing data\n",
    " these 2 generator are used for generating data."
   ]
  },
  {
   "cell_type": "code",
   "execution_count": 2,
   "id": "6edf1f26",
   "metadata": {},
   "outputs": [],
   "source": [
    "def document_generator():\n",
    "    files = [ \"LISA0.001\", \"LISA0.501\", \"LISA1.001\", \"LISA1.501\", \n",
    "              \"LISA2.001\", \"LISA2.501\", \"LISA3.001\", \"LISA3.501\", \n",
    "              \"LISA4.001\", \"LISA4.501\", \"LISA5.001\", \"LISA5.501\", \"LISA5.627\", \"LISA5.850\"]\n",
    "\n",
    "    for name in files:\n",
    "        with open(name, \"r\") as file:\n",
    "            document = \"\"\n",
    "            for line in file:\n",
    "                if line.rstrip() == \"********************************************\":\n",
    "                    yield document.split(\"\\n\")[:3]\n",
    "                    document = \"\"\n",
    "                    continue\n",
    "                \n",
    "                if line.startswith(\"Document \"):\n",
    "                    document += line.split(\" \")[-1]\n",
    "                else:\n",
    "                    document += \"\\n\" if line.replace(\" \", \"\") == \"\\n\" else line.replace(\"\\n\", \" \")"
   ]
  },
  {
   "cell_type": "code",
   "execution_count": 3,
   "id": "2ffe0bc0",
   "metadata": {},
   "outputs": [],
   "source": [
    "def query_generator():\n",
    "    result = []\n",
    "    \n",
    "    with open(\"LISA.QUE\", \"r\") as file:\n",
    "        query = \"\"\n",
    "        for line in file:\n",
    "            if line.rstrip().endswith(\"#\"):\n",
    "                query += line.replace(\" #\", \"\").rstrip()\n",
    "                result.append(query)\n",
    "                query = \"\"\n",
    "                continue\n",
    "\n",
    "            if not line.rstrip().isnumeric() and line != \"\\n\":\n",
    "                query += line.replace(\"\\n\", \" \")\n",
    "    \n",
    "    index = 0\n",
    "    with open(\"LISA.REL\", \"r\") as file:\n",
    "        ref = \"\"\n",
    "        for line in file:\n",
    "            if line.rstrip().endswith(\"-1\"):\n",
    "                ref += line.replace(\" -1\", \"\").rstrip()\n",
    "                result[index] = (result[index], ref.split(\" \"))\n",
    "                index += 1\n",
    "                ref = \"\"\n",
    "                continue\n",
    "\n",
    "            if line.replace(\" \", \"\").replace(\"-1\", \"\").rstrip().isnumeric():\n",
    "                ref += line.replace(\"-1\", \"\").replace(\"\\n\", \" \")\n",
    "\n",
    "    return result"
   ]
  },
  {
   "cell_type": "markdown",
   "id": "da06a410",
   "metadata": {},
   "source": [
    "## Preprocessing"
   ]
  },
  {
   "cell_type": "code",
   "execution_count": 5,
   "id": "e36762a7",
   "metadata": {},
   "outputs": [
    {
     "name": "stdout",
     "output_type": "stream",
     "text": [
      "1996\n",
      "['POTENTIAL APPLICATIONS OF SUCH DISCS IN MODERN INFORMATION MANAGEMENT SYSTEMS, E.G. FOR PROVIDING REAL-TIME ACCESS TO SOURCE DOCUMENT ARCHIVES. CONCLUDES THAT, PROVIDED PROBLEMS WITH RESOLUTION AND ARCHIVAL QUALITY ARE RESOLVED, OPTICAL DISC TECHNOLOGY WILL HAVE A MAJOR IMPACT ON THE INFORMATION STORAGE AND RETRIEVAL FIELD AND THAT DIGITAL OPTICAL RECORDING SYSTEMS USING THIN FILM DISCS WILL BE VIABLE BY 1985-86 AND WILL BE PRESENTING MAJOR COMPETITION TO COMPUTER-OUTPUT-MICROFORMS AND MAGNETIC TAPE STORAGE SYSTEMS BY 1990. ']\n"
     ]
    }
   ],
   "source": [
    "collection = list(document_generator())\n",
    "a = 0\n",
    "i = 0\n",
    "for item in collection:\n",
    "    if len(item) != 3:\n",
    "        a = a + 1\n",
    "        print(i)\n",
    "        print(item)\n",
    "        collection.remove(item)\n",
    "    i = i + 1"
   ]
  },
  {
   "cell_type": "code",
   "execution_count": 6,
   "id": "9bf04782",
   "metadata": {},
   "outputs": [],
   "source": [
    "documents = [item[2] for item in collection]\n",
    "queries   = [item[1] for item in collection]\n",
    "document_number = [item[0] for item in collection]"
   ]
  },
  {
   "cell_type": "markdown",
   "id": "e0884309",
   "metadata": {},
   "source": [
    "Do removing unwanted digits, unwanted punchuations, lowering all characters, word tokenization, removing stopwords, and stemming as preprocessing:"
   ]
  },
  {
   "cell_type": "code",
   "execution_count": 7,
   "id": "c51d3b5b",
   "metadata": {},
   "outputs": [],
   "source": [
    "unwanted_digit=['0','1','2','3','4','5','6','7','8','9']\n",
    "unwanted_punc=['.',',','\"','=','@','&','%',',',':','\\\\','$','^','<','>','{','}',';','\\n','\\t','(',')','[',']','/','*','+','#','-','_','|']\n",
    "\n",
    "# removing unwanted digits\n",
    "for digit in unwanted_digit:\n",
    "    documents = [sent.replace(digit, \"\") for sent in documents]\n",
    "    queries   = [sent.replace(digit, \"\") for sent in queries]\n",
    "\n",
    "# removing unwanted punchuations\n",
    "for punc in unwanted_punc:\n",
    "    documents = [sent.replace(punc, \"\") for sent in documents]\n",
    "    queries   = [sent.replace(punc, \"\") for sent in queries]\n",
    "\n",
    "# loweing all characters\n",
    "documents = [sent.lower() for sent in documents]\n",
    "queries   = [sent.lower() for sent in queries]\n",
    "\n",
    "# word tokenization\n",
    "documents = [nltk.word_tokenize(sent) for sent in documents]\n",
    "queries   = [nltk.word_tokenize(sent) for sent in queries]\n",
    "\n",
    "# removing stopwords\n",
    "from nltk.corpus import stopwords\n",
    "stop_words = stopwords.words(\"english\")\n",
    "for i in range(len(documents)):\n",
    "    documents[i] = [w for w in documents[i] if w not in stop_words]\n",
    "for i in range(len(queries)):\n",
    "    queries[i] = [w for w in queries[i] if w not in stop_words]\n",
    "\n",
    "# stemming\n",
    "from nltk.stem import PorterStemmer\n",
    "stemmer=PorterStemmer()\n",
    "for i in range(len(documents)):\n",
    "    documents[i] = [stemmer.stem(w) for w in documents[i]]\n",
    "for i in range(len(queries)):\n",
    "    queries[i] = [stemmer.stem(w) for w in queries[i]]"
   ]
  },
  {
   "cell_type": "markdown",
   "id": "0c91c06f",
   "metadata": {},
   "source": [
    "Unique words of queries and documents:"
   ]
  },
  {
   "cell_type": "code",
   "execution_count": 13,
   "id": "9126a307",
   "metadata": {},
   "outputs": [],
   "source": [
    "queries_words   = [word for sent in queries for word in sent]\n",
    "documents_words = [word for sent in documents for word in sent]\n",
    "\n",
    "queries_words = dict(nltk.FreqDist(queries_words)).keys()\n",
    "documents_words = dict(nltk.FreqDist(documents_words)).keys()"
   ]
  },
  {
   "cell_type": "markdown",
   "id": "5636a60e",
   "metadata": {},
   "source": [
    "## TF-IDF"
   ]
  },
  {
   "cell_type": "code",
   "execution_count": 18,
   "id": "186518f9",
   "metadata": {},
   "outputs": [],
   "source": [
    "documents = list(\n",
    "    map(lambda x: x[2],\n",
    "        filter(lambda x: len(x) == 3,\n",
    "           document_generator()\n",
    "        )\n",
    "    )\n",
    ")\n",
    "queries = list(\n",
    "    map(lambda x: x[0],\n",
    "        filter(lambda x: len(x) == 2,\n",
    "           query_generator()\n",
    "        )\n",
    "    )\n",
    ")"
   ]
  },
  {
   "cell_type": "code",
   "execution_count": 19,
   "id": "1b4ca0b3",
   "metadata": {},
   "outputs": [],
   "source": [
    "unwanted_digit = ['0','1','2','3','4','5','6','7','8','9']\n",
    "unwanted_punc = ['.',',','\"','=','@','&','%',',',':','\\\\','$','^','<','>','{','}',';','\\n','\\t','(',')','[',']','/','*','+','#','-','_','|']\n",
    "stop_words = nltk.corpus.stopwords.words(\"english\")\n",
    "stemmer = nltk.stem.PorterStemmer()\n",
    "\n",
    "def tokenizer(sentence):\n",
    "    for digit in unwanted_digit:\n",
    "        sentence = sentence.replace(digit, \"\")\n",
    "    \n",
    "    for punc in unwanted_punc:\n",
    "        sentence = sentence.replace(punc, \"\")\n",
    "    \n",
    "    return [\n",
    "        stemmer.stem(word)\n",
    "        for word in nltk.word_tokenize(sentence.lower())\n",
    "        if word not in stop_words\n",
    "    ]"
   ]
  },
  {
   "cell_type": "code",
   "execution_count": 20,
   "id": "139b38df",
   "metadata": {},
   "outputs": [],
   "source": [
    "vectorizer = sklearn.feature_extraction.text.TfidfVectorizer(tokenizer=tokenizer).fit(documents)\n",
    "\n",
    "documents_tfidf = vectorizer.transform(documents)\n",
    "queries_tfidf = vectorizer.transform(queries)"
   ]
  },
  {
   "cell_type": "markdown",
   "id": "5a6a72c7",
   "metadata": {},
   "source": [
    "For the different number of documents which are retrieved, we evaluate the TF-IDF model with the fuction that write below:"
   ]
  },
  {
   "cell_type": "code",
   "execution_count": 21,
   "id": "b5574a2d",
   "metadata": {},
   "outputs": [],
   "source": [
    "def find_similars(documents_vectors, queries_vectors, n):\n",
    "    sims = 1 - sp.distance.cdist(documents_vectors, queries_vectors, 'cosine')\n",
    "    \n",
    "    reference_keys = list([x[1] for x in query_generator() if len(x) == 2])\n",
    "    \n",
    "    document_nums = list([x[0] for x in document_generator() if len(x) == 3])\n",
    "    predict_keys = list([\n",
    "        [document_nums[key] for key in row]\n",
    "        for row in np.argsort(sims, axis=0)[::-1][:n].T\n",
    "    ])\n",
    "    \n",
    "    references = [\n",
    "        1 if str(document_idx) in reference_keys[query_idx] else 0\n",
    "        for document_idx in range(6004)\n",
    "        for query_idx in range(33)\n",
    "    ]\n",
    "\n",
    "    predicts = [\n",
    "        1 if str(document_idx) in predict_keys[query_idx] else 0\n",
    "        for document_idx in range(6004)\n",
    "        for query_idx in range(33)\n",
    "    ]\n",
    "    \n",
    "    return (references, predicts)"
   ]
  },
  {
   "cell_type": "markdown",
   "id": "88192bb7",
   "metadata": {},
   "source": [
    "### Number of documents that are retrieved = 5"
   ]
  },
  {
   "cell_type": "code",
   "execution_count": 22,
   "id": "4e42662c",
   "metadata": {},
   "outputs": [
    {
     "name": "stdout",
     "output_type": "stream",
     "text": [
      "precision: 0.2606060606060606\n",
      "recall: 0.12146892655367232\n",
      "f1: 0.16570327552986513\n"
     ]
    }
   ],
   "source": [
    "(trues, preds) = find_similars(documents_tfidf.toarray(), queries_tfidf.toarray(), 5)\n",
    "\n",
    "print(f\"precision: {sklearn.metrics.precision_score(trues, preds)}\")\n",
    "print(f\"recall: {sklearn.metrics.recall_score(trues, preds)}\")\n",
    "print(f\"f1: {sklearn.metrics.f1_score(trues, preds)}\")"
   ]
  },
  {
   "cell_type": "markdown",
   "id": "54af316e",
   "metadata": {},
   "source": [
    "### Number of documents that are retrieved = 10"
   ]
  },
  {
   "cell_type": "code",
   "execution_count": 23,
   "id": "2bf7e8b6",
   "metadata": {},
   "outputs": [
    {
     "name": "stdout",
     "output_type": "stream",
     "text": [
      "precision: 0.23030303030303031\n",
      "recall: 0.21468926553672316\n",
      "f1: 0.22222222222222224\n"
     ]
    }
   ],
   "source": [
    "(trues, preds) = find_similars(documents_tfidf.toarray(), queries_tfidf.toarray(), 10)\n",
    "\n",
    "print(f\"precision: {sklearn.metrics.precision_score(trues, preds)}\")\n",
    "print(f\"recall: {sklearn.metrics.recall_score(trues, preds)}\")\n",
    "print(f\"f1: {sklearn.metrics.f1_score(trues, preds)}\")"
   ]
  },
  {
   "cell_type": "markdown",
   "id": "75f12fcb",
   "metadata": {},
   "source": [
    "### Number of documents that are retrieved = 20"
   ]
  },
  {
   "cell_type": "code",
   "execution_count": 24,
   "id": "c327ca25",
   "metadata": {},
   "outputs": [
    {
     "name": "stdout",
     "output_type": "stream",
     "text": [
      "precision: 0.17272727272727273\n",
      "recall: 0.3220338983050847\n",
      "f1: 0.22485207100591714\n"
     ]
    }
   ],
   "source": [
    "(trues, preds) = find_similars(documents_tfidf.toarray(), queries_tfidf.toarray(), 20)\n",
    "\n",
    "print(f\"precision: {sklearn.metrics.precision_score(trues, preds)}\")\n",
    "print(f\"recall: {sklearn.metrics.recall_score(trues, preds)}\")\n",
    "print(f\"f1: {sklearn.metrics.f1_score(trues, preds)}\")"
   ]
  },
  {
   "cell_type": "markdown",
   "id": "e1c65e03",
   "metadata": {},
   "source": [
    "### Number of documents that are retrieved = 40"
   ]
  },
  {
   "cell_type": "code",
   "execution_count": 25,
   "id": "b96528f5",
   "metadata": {},
   "outputs": [
    {
     "name": "stdout",
     "output_type": "stream",
     "text": [
      "precision: 0.11287878787878788\n",
      "recall: 0.4209039548022599\n",
      "f1: 0.1780167264038232\n"
     ]
    }
   ],
   "source": [
    "(trues, preds) = find_similars(documents_tfidf.toarray(), queries_tfidf.toarray(), 40)\n",
    "\n",
    "print(f\"precision: {sklearn.metrics.precision_score(trues, preds)}\")\n",
    "print(f\"recall: {sklearn.metrics.recall_score(trues, preds)}\")\n",
    "print(f\"f1: {sklearn.metrics.f1_score(trues, preds)}\")"
   ]
  },
  {
   "cell_type": "markdown",
   "id": "e7bee093",
   "metadata": {},
   "source": [
    "## LSI\n",
    "\n",
    "In this section, we use LSI algorithm for dimentionality reduction. Then plot the vector corresponding to the first 10 queries along with the closest one."
   ]
  },
  {
   "cell_type": "code",
   "execution_count": 26,
   "id": "ee4501f1",
   "metadata": {},
   "outputs": [],
   "source": [
    "import sklearn.decomposition\n",
    "svd = sklearn.decomposition.TruncatedSVD(n_components=2).fit(documents_tfidf)\n",
    "\n",
    "documents_svd = svd.transform(documents_tfidf)\n",
    "queries_svd = svd.transform(queries_tfidf)"
   ]
  },
  {
   "cell_type": "code",
   "execution_count": 27,
   "id": "e0236c6c",
   "metadata": {},
   "outputs": [],
   "source": [
    "from matplotlib import cm\n",
    "from matplotlib.colors import LinearSegmentedColormap\n",
    "\n",
    "def draw_points(documents_vectors, queries_vectors, n):\n",
    "    distances = 1 - sp.distance.cdist(documents_vectors, queries_vectors, 'cosine')\n",
    "    similars = np.argsort(distances, axis=0)[::-1][:n].T\n",
    "    \n",
    "    colors = plt.cm.get_cmap('hsv', 33)\n",
    "    \n",
    "    for i in range(len(queries_vectors)):\n",
    "        plt.scatter(x=[queries_vectors[i][0]], y=[queries_vectors[i][1]], c=[colors(i)], marker='o')\n",
    "        \n",
    "        for similar in similars[i]:\n",
    "            plt.scatter(x=[documents_vectors[similar][0]], y=[documents_vectors[similar][1]], c=[colors(i)], marker='+')\n",
    "        \n",
    "    plt.show()"
   ]
  },
  {
   "cell_type": "markdown",
   "id": "05e7ca00",
   "metadata": {},
   "source": [
    "### Number of documents that are retrieved = 5"
   ]
  },
  {
   "cell_type": "code",
   "execution_count": 28,
   "id": "947f5ec9",
   "metadata": {},
   "outputs": [
    {
     "data": {
      "image/png": "[encoded data removed]",
      "text/plain": [
       "<Figure size 432x288 with 1 Axes>"
      ]
     },
     "metadata": {
      "needs_background": "light"
     },
     "output_type": "display_data"
    }
   ],
   "source": [
    "draw_points(documents_svd, queries_svd, 5)"
   ]
  },
  {
   "cell_type": "markdown",
   "id": "465ea50c",
   "metadata": {},
   "source": [
    "### Number of documents that are retrieved = 10"
   ]
  },
  {
   "cell_type": "code",
   "execution_count": 29,
   "id": "724487ca",
   "metadata": {},
   "outputs": [
    {
     "data": {
      "image/png": "[encoded data removed]",
      "text/plain": [
       "<Figure size 432x288 with 1 Axes>"
      ]
     },
     "metadata": {
      "needs_background": "light"
     },
     "output_type": "display_data"
    }
   ],
   "source": [
    "draw_points(documents_svd, queries_svd, 10)"
   ]
  },
  {
   "cell_type": "markdown",
   "id": "758649c9",
   "metadata": {},
   "source": [
    "### Number of documents that are retrieved = 20"
   ]
  },
  {
   "cell_type": "code",
   "execution_count": 30,
   "id": "8b901fb6",
   "metadata": {},
   "outputs": [
    {
     "data": {
      "image/png": "[encoded data removed]",
      "text/plain": [
       "<Figure size 432x288 with 1 Axes>"
      ]
     },
     "metadata": {
      "needs_background": "light"
     },
     "output_type": "display_data"
    }
   ],
   "source": [
    "draw_points(documents_svd, queries_svd, 20)"
   ]
  },
  {
   "cell_type": "markdown",
   "id": "e2338988",
   "metadata": {},
   "source": [
    "### Number of documents that are retrieved = 40"
   ]
  },
  {
   "cell_type": "code",
   "execution_count": 31,
   "id": "c6df5143",
   "metadata": {},
   "outputs": [
    {
     "data": {
      "image/png": "[encoded data removed]",
      "text/plain": [
       "<Figure size 432x288 with 1 Axes>"
      ]
     },
     "metadata": {
      "needs_background": "light"
     },
     "output_type": "display_data"
    }
   ],
   "source": [
    "draw_points(documents_svd, queries_svd, 40)"
   ]
  },
  {
   "cell_type": "code",
   "execution_count": null,
   "id": "828e2581",
   "metadata": {},
   "outputs": [],
   "source": []
  }
 ],
 "metadata": {
  "kernelspec": {
   "display_name": "Python 3",
   "language": "python",
   "name": "python3"
  },
  "language_info": {
   "codemirror_mode": {
    "name": "ipython",
    "version": 3
   },
   "file_extension": ".py",
   "mimetype": "text/x-python",
   "name": "python",
   "nbconvert_exporter": "python",
   "pygments_lexer": "ipython3",
   "version": "3.7.6"
  }
 },
 "nbformat": 4,
 "nbformat_minor": 5
}
