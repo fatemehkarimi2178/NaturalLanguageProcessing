{
  "cells": [
    {
      "cell_type": "markdown",
      "metadata": {
        "id": "Ifv9Cu5ywXGS"
      },
      "source": [
        "# \n",
        "\n",
        "- **Questions**: [Here](../data/project/mini_project.pdf)\n",
        "- **Answer Set** : Project\n",
        "- **Full Name** : Fatemeh Karimi Barikarasfi\n",
        "- **Student Code** : 610301060\n",
        "\n",
        "The goal of this projet is sequence classification using Bert model for Part of Speech Tagging and Named Entity Recognition problem at the same time.\n",
        "\n",
        "[Dataset](https://drive.google.com/drive/folders/1YJvoIpInw0fYz2fjHSR65mjs6IYFZUvN)\n",
        "\n",
        "## Importing Needed Libraries"
      ]
    },
    {
      "cell_type": "code",
      "execution_count": 3,
      "metadata": {
        "id": "EHc-SidhpswV"
      },
      "outputs": [],
      "source": [
        "import numpy as np\n",
        "import pickle as pk\n",
        "import tensorflow as tf\n",
        "import matplotlib.pyplot as plt\n",
        "from sklearn.metrics import recall_score, precision_score, classification_report, accuracy_score, f1_score, confusion_matrix, ConfusionMatrixDisplay\n",
        "\n",
        "from transformers import BertTokenizerFast, TFBertModel, TFBertForTokenClassification\n",
        "from keras.utils.np_utils import to_categorical"
      ]
    },
    {
      "cell_type": "markdown",
      "metadata": {
        "id": "h_9TRktTXwDv"
      },
      "source": [
        "## Loading and Preprocessing and Preparing Data"
      ]
    },
    {
      "cell_type": "code",
      "execution_count": 4,
      "metadata": {
        "id": "CQWbD7_O2EfA"
      },
      "outputs": [],
      "source": [
        "with open('./drive/MyDrive/POS_NER/train.pickle', 'rb') as f:\n",
        "    x_train = pk.load(f)\n",
        "\n",
        "ner_set = set([tag for row in x_train[\"ner_tags\"] for tag in row])\n",
        "pos_set = set([tag for row in x_train[\"pos_tags\"] for tag in row])\n",
        "\n",
        "ner_label2id = {val: idx for idx, val in enumerate(ner_set)}\n",
        "ner_id2label = {idx: val for idx, val in enumerate(ner_set)}\n",
        "\n",
        "pos_label2id = {val: idx for idx, val in enumerate(pos_set)}\n",
        "pos_id2label = {idx: val for idx, val in enumerate(pos_set)}\n",
        "\n",
        "ner_max = len(ner_set)\n",
        "pos_max = len(pos_set)"
      ]
    },
    {
      "cell_type": "code",
      "execution_count": 5,
      "metadata": {
        "colab": {
          "base_uri": "https://localhost:8080/"
        },
        "id": "fMqrTuaHFDDl",
        "outputId": "a9dad274-a032-4355-fdb1-fca4646846d0"
      },
      "outputs": [
        {
          "data": {
            "text/plain": [
              "124"
            ]
          },
          "execution_count": 5,
          "metadata": {},
          "output_type": "execute_result"
        }
      ],
      "source": [
        "max([len(x) for x in x_train['tokens']])"
      ]
    },
    {
      "cell_type": "code",
      "execution_count": 6,
      "metadata": {
        "colab": {
          "base_uri": "https://localhost:8080/",
          "height": 145,
          "referenced_widgets": [
            "2fe792df48a04ec7812732872cd323e3",
            "5c5561ea45c14d61bde9172cda4e962c",
            "b176ac6c7db04230be63e18998be2dbb",
            "c792a92b03c34104a20acd6a5fb98494",
            "6192cc6e2fbb45cd8a07cc2f731e2849",
            "414fa134fb504b8180c579193766febf",
            "30a628e0e86c401faef87c9f5590f078",
            "fb442a79e2e64cbb99978ab398491f00",
            "303b9a6f457a400584232607342f758d",
            "e73c3edcf8444f8d94bb71c6912eee48",
            "cb14a6b8208a4d79b1eacc1b922d99d2",
            "77bb8881c7ed4673bc02da2b77bd8286",
            "8f6e82982cc14c778352a74855a26709",
            "8a13969e688c4d41bc73bcdfce43ec0c",
            "ff93677b68424e03828e4683294f8df1",
            "166789373fa14f158288d824d16c200f",
            "ac8f1bd352dc4f26bfe8d174a9acc621",
            "43cfbee60fe8483a96bf92940c745d05",
            "967890ee114b40a295b7a8c8553f14ea",
            "37e24dd8d3b3434bbef259ce83297137",
            "03794701e2334115a3ddcb99a4feeb36",
            "222cef3ac6d3442a96c8a73c32c2e598",
            "0f79e982a308488bbfa990ca81849b22",
            "a067f6e2a47046568aea567fda32bde9",
            "a333ff74c7da42d2865b7392a70f3a04",
            "1e9385c21ec74600854bc848ecf09ed1",
            "e2435aebcb174abbb0ecf0f77da4df9f",
            "585e7e648e824edf98c497ebb9604360",
            "68c39412b11b4ecf8486e50b409ed272",
            "79314045ddce49189ff1d4c8a3e030bd",
            "7abbe45ae21e4bc294271fc4f29a8156",
            "277729ae0c0e48ee9689462375fb99df",
            "c368024606fd426785d4aaf70ab0bf69",
            "eb2e2a18649f4befa31bce1f35a4ea35",
            "6747e4273bbe490f8eb27a530f17ddb3",
            "abab2cfaa38d4911a8f7243fad790e1b",
            "97cc952b46f84ff296c8464c3cb3c733",
            "2021de9374254bd48f055c5e18ddb613",
            "d99d5c49c5864f9cb0ab9386dcd6391d",
            "97c8fe08e41d4bcb847531cf16b2608c",
            "1d213f23dd934a1ebe5c6df135265d56",
            "23946be363794299a6bd6889af9310e7",
            "adb0dce40f1d44f4a6fbf577bcf1172f",
            "35390acc1128448582b09bd82eb88816"
          ]
        },
        "id": "gr-IESQYp8YX",
        "outputId": "942a441a-5aeb-424a-d8ef-62a6a025084f"
      },
      "outputs": [
        {
          "data": {
            "application/vnd.jupyter.widget-view+json": {
              "model_id": "2fe792df48a04ec7812732872cd323e3",
              "version_major": 2,
              "version_minor": 0
            },
            "text/plain": [
              "Downloading (…)okenizer_config.json:   0%|          | 0.00/28.0 [00:00<?, ?B/s]"
            ]
          },
          "metadata": {},
          "output_type": "display_data"
        },
        {
          "data": {
            "application/vnd.jupyter.widget-view+json": {
              "model_id": "77bb8881c7ed4673bc02da2b77bd8286",
              "version_major": 2,
              "version_minor": 0
            },
            "text/plain": [
              "Downloading (…)solve/main/vocab.txt:   0%|          | 0.00/232k [00:00<?, ?B/s]"
            ]
          },
          "metadata": {},
          "output_type": "display_data"
        },
        {
          "data": {
            "application/vnd.jupyter.widget-view+json": {
              "model_id": "0f79e982a308488bbfa990ca81849b22",
              "version_major": 2,
              "version_minor": 0
            },
            "text/plain": [
              "Downloading (…)/main/tokenizer.json:   0%|          | 0.00/466k [00:00<?, ?B/s]"
            ]
          },
          "metadata": {},
          "output_type": "display_data"
        },
        {
          "data": {
            "application/vnd.jupyter.widget-view+json": {
              "model_id": "eb2e2a18649f4befa31bce1f35a4ea35",
              "version_major": 2,
              "version_minor": 0
            },
            "text/plain": [
              "Downloading (…)lve/main/config.json:   0%|          | 0.00/570 [00:00<?, ?B/s]"
            ]
          },
          "metadata": {},
          "output_type": "display_data"
        }
      ],
      "source": [
        "tokenizer = BertTokenizerFast.from_pretrained(\"bert-base-uncased\")\n",
        "\n",
        "def batch(iterable, n=1):\n",
        "    l = len(iterable)\n",
        "    for ndx in range(0, l, n):\n",
        "        yield iterable[ndx:min(ndx + n, l)]\n",
        "\n",
        "def generator(subset=0, batch_size=20):\n",
        "\n",
        "    path = './drive/MyDrive/POS_NER/test.pickle'\n",
        "    if subset == 0:\n",
        "        path = './drive/MyDrive/POS_NER/train.pickle'\n",
        "    if subset == 1:\n",
        "        path = './drive/MyDrive/POS_NER/validation.pickle'\n",
        "\n",
        "    with open(path, 'rb') as f:\n",
        "        data = pk.load(f)\n",
        "\n",
        "    def tags_map(tag, idx, word_ids, label2id):\n",
        "        result = []\n",
        "        last_id = None\n",
        "        for id in word_ids:\n",
        "            if (id == None) or (id == last_id) or (id >= len(data[tag][idx])):\n",
        "                result.append(-100)\n",
        "                continue\n",
        "\n",
        "            last_id = id\n",
        "            result.append(label2id[data[tag][idx][id]])\n",
        "\n",
        "        return result\n",
        "\n",
        "    for idxs in batch(range(len(data[\"tokens\"])), batch_size):\n",
        "        inputs = tokenizer(\n",
        "            [\" \".join(tokens) for tokens in data[\"tokens\"][idxs]],\n",
        "            add_special_tokens=True,\n",
        "            return_tensors=\"tf\",\n",
        "            truncation=True,\n",
        "            padding=\"max_length\",\n",
        "            max_length=128\n",
        "        )\n",
        "\n",
        "        if subset == 2:\n",
        "            yield dict(inputs)\n",
        "            continue\n",
        "\n",
        "        yield dict(inputs), (\n",
        "            tf.constant([tags_map(\"ner_tags\", idx, inputs.word_ids(idx - idxs[0]), ner_label2id) for idx in idxs]),\n",
        "            tf.constant([tags_map(\"pos_tags\", idx, inputs.word_ids(idx - idxs[0]), pos_label2id) for idx in idxs])\n",
        "        )\n",
        "\n",
        "trainset = tf.data.Dataset.from_generator(generator, args=(0, 64), output_signature=(\n",
        "    {\n",
        "        \"input_ids\": tf.TensorSpec(shape=(None, 128), dtype=tf.int32),\n",
        "        \"token_type_ids\": tf.TensorSpec(shape=(None, 128), dtype=tf.int32),\n",
        "        \"attention_mask\": tf.TensorSpec(shape=(None, 128), dtype=tf.int32)\n",
        "    },\n",
        "    (\n",
        "        tf.TensorSpec(shape=(None, 128), dtype=tf.int32),\n",
        "        tf.TensorSpec(shape=(None, 128), dtype=tf.int32)\n",
        "    )\n",
        "))\n",
        "\n",
        "validset = tf.data.Dataset.from_generator(generator, args=(1, 64), output_signature=(\n",
        "    {\n",
        "        \"input_ids\": tf.TensorSpec(shape=(None, 128), dtype=tf.int32),\n",
        "        \"token_type_ids\": tf.TensorSpec(shape=(None, 128), dtype=tf.int32),\n",
        "        \"attention_mask\": tf.TensorSpec(shape=(None, 128), dtype=tf.int32)\n",
        "    },\n",
        "    (\n",
        "        tf.TensorSpec(shape=(None, 128), dtype=tf.int32),\n",
        "        tf.TensorSpec(shape=(None, 128), dtype=tf.int32)\n",
        "    )\n",
        "))\n",
        "\n",
        "testset = tf.data.Dataset.from_generator(generator, args=(2, 64), output_signature={\n",
        "    \"input_ids\": tf.TensorSpec(shape=(None, 128), dtype=tf.int32),\n",
        "    \"token_type_ids\": tf.TensorSpec(shape=(None, 128), dtype=tf.int32),\n",
        "    \"attention_mask\": tf.TensorSpec(shape=(None, 128), dtype=tf.int32)\n",
        "})"
      ]
    },
    {
      "cell_type": "markdown",
      "metadata": {
        "id": "i_LvyME1X_p1"
      },
      "source": [
        "## Model"
      ]
    },
    {
      "cell_type": "code",
      "execution_count": 7,
      "metadata": {
        "id": "oRb2HGnnq_7g"
      },
      "outputs": [],
      "source": [
        "class BERTEncoder(tf.keras.layers.Layer):\n",
        "    def __init__(self):\n",
        "        super().__init__()\n",
        "\n",
        "        self.model = TFBertModel.from_pretrained(\"bert-base-uncased\", trainable=True)\n",
        "\n",
        "    def call(self, x):\n",
        "        return self.model(x)[0]"
      ]
    },
    {
      "cell_type": "code",
      "execution_count": 8,
      "metadata": {
        "colab": {
          "base_uri": "https://localhost:8080/",
          "height": 624,
          "referenced_widgets": [
            "5477b0bcceb14b01a4244ef7a2bf77c2",
            "d6c9df7496274cd5b2775f110b68cedb",
            "dc40b97395bd47a99d078099397a4a2c",
            "16106937bc8845b0bb8d8dd07b5f87b1",
            "70398a9a05f64c8990ef72deeb809fa5",
            "cf1b4c8e312c45a88f3eb87423e5cf22",
            "87da0cff44e54210a67788eddf447e34",
            "108fd4d1649a49f2b7773e10e6fccb48",
            "d211aae397b84cc8b75aa2254edfc89d",
            "1e57b4f39e604926a64d8d0c3809369c",
            "90af23ac6fbf49a29891e09fdda287cc"
          ]
        },
        "id": "0fOv2c7PaFKo",
        "outputId": "0a29a006-7b50-45d3-935c-36c960d14ee7"
      },
      "outputs": [
        {
          "data": {
            "application/vnd.jupyter.widget-view+json": {
              "model_id": "5477b0bcceb14b01a4244ef7a2bf77c2",
              "version_major": 2,
              "version_minor": 0
            },
            "text/plain": [
              "Downloading model.safetensors:   0%|          | 0.00/440M [00:00<?, ?B/s]"
            ]
          },
          "metadata": {},
          "output_type": "display_data"
        },
        {
          "name": "stderr",
          "output_type": "stream",
          "text": [
            "Some weights of the PyTorch model were not used when initializing the TF 2.0 model TFBertModel: ['cls.seq_relationship.bias', 'cls.predictions.transform.LayerNorm.weight', 'cls.predictions.transform.LayerNorm.bias', 'cls.predictions.transform.dense.bias', 'cls.seq_relationship.weight', 'cls.predictions.bias', 'cls.predictions.transform.dense.weight']\n",
            "- This IS expected if you are initializing TFBertModel from a PyTorch model trained on another task or with another architecture (e.g. initializing a TFBertForSequenceClassification model from a BertForPreTraining model).\n",
            "- This IS NOT expected if you are initializing TFBertModel from a PyTorch model that you expect to be exactly identical (e.g. initializing a TFBertForSequenceClassification model from a BertForSequenceClassification model).\n",
            "All the weights of TFBertModel were initialized from the PyTorch model.\n",
            "If your task is similar to the task the model of the checkpoint was trained on, you can already use TFBertModel for predictions without further training.\n"
          ]
        },
        {
          "name": "stdout",
          "output_type": "stream",
          "text": [
            "Model: \"model\"\n",
            "__________________________________________________________________________________________________\n",
            " Layer (type)                   Output Shape         Param #     Connected to                     \n",
            "==================================================================================================\n",
            " attention_mask (InputLayer)    [(None, 128)]        0           []                               \n",
            "                                                                                                  \n",
            " input_ids (InputLayer)         [(None, 128)]        0           []                               \n",
            "                                                                                                  \n",
            " token_type_ids (InputLayer)    [(None, 128)]        0           []                               \n",
            "                                                                                                  \n",
            " bert_encoder (BERTEncoder)     (None, 128, 768)     109482240   ['attention_mask[0][0]',         \n",
            "                                                                  'input_ids[0][0]',              \n",
            "                                                                  'token_type_ids[0][0]']         \n",
            "                                                                                                  \n",
            " dropout_37 (Dropout)           (None, 128, 768)     0           ['bert_encoder[0][0]']           \n",
            "                                                                                                  \n",
            " dropout_38 (Dropout)           (None, 128, 768)     0           ['bert_encoder[0][0]']           \n",
            "                                                                                                  \n",
            " ner (Dense)                    (None, 128, 9)       6921        ['dropout_37[0][0]']             \n",
            "                                                                                                  \n",
            " pos (Dense)                    (None, 128, 45)      34605       ['dropout_38[0][0]']             \n",
            "                                                                                                  \n",
            "==================================================================================================\n",
            "Total params: 109,523,766\n",
            "Trainable params: 109,523,766\n",
            "Non-trainable params: 0\n",
            "__________________________________________________________________________________________________\n"
          ]
        }
      ],
      "source": [
        "ids = tf.keras.Input(shape=(128), name=\"input_ids\", dtype=tf.int32)\n",
        "types = tf.keras.Input(shape=(128), name=\"token_type_ids\", dtype=tf.int32)\n",
        "mask = tf.keras.Input(shape=(128), name=\"attention_mask\", dtype=tf.int32)\n",
        "\n",
        "output = BERTEncoder()({\"input_ids\": ids, \"token_type_ids\": types, \"attention_mask\": mask})\n",
        "\n",
        "output_ner = tf.keras.layers.Dropout(0.1)(output)\n",
        "output_ner = tf.keras.layers.Dense(ner_max, activation=\"softmax\", name=\"ner\", kernel_initializer=tf.keras.initializers.GlorotUniform())(output_ner)\n",
        "\n",
        "output_pos = tf.keras.layers.Dropout(0.1)(output)\n",
        "output_pos = tf.keras.layers.Dense(pos_max, activation=\"softmax\", name=\"pos\", kernel_initializer=tf.keras.initializers.GlorotUniform())(output_pos)\n",
        "\n",
        "\n",
        "model = tf.keras.Model(inputs=[ids, types, mask], outputs=[output_ner, output_pos])\n",
        "\n",
        "def accuracy(y_true, y_pred):\n",
        "    mask = tf.not_equal(y_true, -100)\n",
        "    y_true_filtered = tf.boolean_mask(y_true, mask)\n",
        "    y_pred_filtered = tf.boolean_mask(y_pred, mask)\n",
        "    accuracy = tf.keras.metrics.sparse_categorical_accuracy(y_true_filtered, y_pred_filtered)\n",
        "    return tf.reduce_mean(accuracy)\n",
        "\n",
        "model.compile(\n",
        "    optimizer=tf.keras.optimizers.Adam(learning_rate=0.0001),\n",
        "    metrics={\n",
        "        \"ner\": [accuracy],\n",
        "        \"pos\": [accuracy],\n",
        "    },\n",
        "    loss={\n",
        "        \"ner\": tf.keras.losses.SparseCategoricalCrossentropy(ignore_class=-100),\n",
        "        \"pos\": tf.keras.losses.SparseCategoricalCrossentropy(ignore_class=-100),\n",
        "    },\n",
        ")\n",
        "\n",
        "model.summary()"
      ]
    },
    {
      "cell_type": "code",
      "execution_count": 9,
      "metadata": {
        "colab": {
          "base_uri": "https://localhost:8080/"
        },
        "id": "zo_ftEFBOZxv",
        "outputId": "adc321c8-ba74-4467-89b2-c8facd7390d9"
      },
      "outputs": [
        {
          "name": "stdout",
          "output_type": "stream",
          "text": [
            "Epoch 1/10\n"
          ]
        },
        {
          "name": "stderr",
          "output_type": "stream",
          "text": [
            "WARNING:tensorflow:Gradients do not exist for variables ['tf_bert_model/bert/pooler/dense/kernel:0', 'tf_bert_model/bert/pooler/dense/bias:0'] when minimizing the loss. If you're using `model.compile()`, did you forget to provide a `loss` argument?\n",
            "WARNING:tensorflow:Gradients do not exist for variables ['tf_bert_model/bert/pooler/dense/kernel:0', 'tf_bert_model/bert/pooler/dense/bias:0'] when minimizing the loss. If you're using `model.compile()`, did you forget to provide a `loss` argument?\n",
            "WARNING:tensorflow:Gradients do not exist for variables ['tf_bert_model/bert/pooler/dense/kernel:0', 'tf_bert_model/bert/pooler/dense/bias:0'] when minimizing the loss. If you're using `model.compile()`, did you forget to provide a `loss` argument?\n",
            "WARNING:tensorflow:Gradients do not exist for variables ['tf_bert_model/bert/pooler/dense/kernel:0', 'tf_bert_model/bert/pooler/dense/bias:0'] when minimizing the loss. If you're using `model.compile()`, did you forget to provide a `loss` argument?\n"
          ]
        },
        {
          "name": "stdout",
          "output_type": "stream",
          "text": [
            "220/220 [==============================] - 418s 2s/step - loss: 1.3986 - ner_loss: 0.2776 - pos_loss: 1.1210 - ner_accuracy: 0.9220 - pos_accuracy: 0.6993 - val_loss: 0.7723 - val_ner_loss: 0.1515 - val_pos_loss: 0.6208 - val_ner_accuracy: 0.9533 - val_pos_accuracy: 0.8140\n",
            "Epoch 2/10\n",
            "220/220 [==============================] - 364s 2s/step - loss: 0.6081 - ner_loss: 0.1132 - pos_loss: 0.4949 - ner_accuracy: 0.9644 - pos_accuracy: 0.8479 - val_loss: 0.5519 - val_ner_loss: 0.1113 - val_pos_loss: 0.4406 - val_ner_accuracy: 0.9654 - val_pos_accuracy: 0.8670\n",
            "Epoch 3/10\n",
            "220/220 [==============================] - 364s 2s/step - loss: 0.4253 - ner_loss: 0.0738 - pos_loss: 0.3515 - ner_accuracy: 0.9762 - pos_accuracy: 0.8889 - val_loss: 0.4968 - val_ner_loss: 0.1080 - val_pos_loss: 0.3888 - val_ner_accuracy: 0.9679 - val_pos_accuracy: 0.8822\n",
            "Epoch 4/10\n",
            "220/220 [==============================] - 364s 2s/step - loss: 0.3525 - ner_loss: 0.0635 - pos_loss: 0.2890 - ner_accuracy: 0.9789 - pos_accuracy: 0.9066 - val_loss: 0.4777 - val_ner_loss: 0.1022 - val_pos_loss: 0.3754 - val_ner_accuracy: 0.9715 - val_pos_accuracy: 0.8911\n",
            "Epoch 5/10\n",
            "220/220 [==============================] - 378s 2s/step - loss: 0.2740 - ner_loss: 0.0463 - pos_loss: 0.2277 - ner_accuracy: 0.9845 - pos_accuracy: 0.9249 - val_loss: 0.5323 - val_ner_loss: 0.1074 - val_pos_loss: 0.4248 - val_ner_accuracy: 0.9710 - val_pos_accuracy: 0.8773\n",
            "Epoch 6/10\n",
            "220/220 [==============================] - 378s 2s/step - loss: 0.2358 - ner_loss: 0.0399 - pos_loss: 0.1959 - ner_accuracy: 0.9863 - pos_accuracy: 0.9339 - val_loss: 0.5191 - val_ner_loss: 0.1043 - val_pos_loss: 0.4148 - val_ner_accuracy: 0.9720 - val_pos_accuracy: 0.8891\n",
            "Epoch 7/10\n",
            "220/220 [==============================] - 365s 2s/step - loss: 0.1964 - ner_loss: 0.0332 - pos_loss: 0.1633 - ner_accuracy: 0.9885 - pos_accuracy: 0.9449 - val_loss: 0.4906 - val_ner_loss: 0.1076 - val_pos_loss: 0.3830 - val_ner_accuracy: 0.9735 - val_pos_accuracy: 0.9078\n",
            "Epoch 8/10\n",
            "220/220 [==============================] - 364s 2s/step - loss: 0.1730 - ner_loss: 0.0299 - pos_loss: 0.1431 - ner_accuracy: 0.9895 - pos_accuracy: 0.9510 - val_loss: 0.5028 - val_ner_loss: 0.1072 - val_pos_loss: 0.3956 - val_ner_accuracy: 0.9744 - val_pos_accuracy: 0.9046\n",
            "Epoch 9/10\n",
            "220/220 [==============================] - 365s 2s/step - loss: 0.1511 - ner_loss: 0.0267 - pos_loss: 0.1244 - ner_accuracy: 0.9907 - pos_accuracy: 0.9570 - val_loss: 0.5813 - val_ner_loss: 0.1170 - val_pos_loss: 0.4643 - val_ner_accuracy: 0.9710 - val_pos_accuracy: 0.8887\n",
            "Epoch 10/10\n",
            "220/220 [==============================] - 377s 2s/step - loss: 0.1282 - ner_loss: 0.0225 - pos_loss: 0.1057 - ner_accuracy: 0.9922 - pos_accuracy: 0.9639 - val_loss: 0.5166 - val_ner_loss: 0.1071 - val_pos_loss: 0.4095 - val_ner_accuracy: 0.9764 - val_pos_accuracy: 0.9118\n"
          ]
        },
        {
          "data": {
            "text/plain": [
              "<keras.callbacks.History at 0x794fb530f820>"
            ]
          },
          "execution_count": 9,
          "metadata": {},
          "output_type": "execute_result"
        }
      ],
      "source": [
        "model.fit(trainset, validation_data=validset, epochs=10, batch_size=64)"
      ]
    },
    {
      "cell_type": "markdown",
      "metadata": {
        "id": "nihqxJY-YJvX"
      },
      "source": [
        "## Model Evaluation"
      ]
    },
    {
      "cell_type": "code",
      "execution_count": 10,
      "metadata": {
        "colab": {
          "base_uri": "https://localhost:8080/"
        },
        "id": "nIJF74Gc4G0p",
        "outputId": "8866efc6-4336-4892-dd1f-2286e2c1cacd"
      },
      "outputs": [
        {
          "name": "stdout",
          "output_type": "stream",
          "text": [
            "51/51 [==============================] - 32s 565ms/step\n"
          ]
        }
      ],
      "source": [
        "predicts = model.predict(validset)"
      ]
    },
    {
      "cell_type": "code",
      "execution_count": 11,
      "metadata": {
        "id": "YhQwqunQnXym"
      },
      "outputs": [],
      "source": [
        "ner_tags_true = tf.reshape(tf.concat([y[0] for x, y in validset], axis=0), [-1])\n",
        "pos_tags_true = tf.reshape(tf.concat([y[1] for x, y in validset], axis=0), [-1])\n",
        "\n",
        "ner_tags_pred = tf.reshape(predicts[0].argmax(-1), [-1])\n",
        "pos_tags_pred = tf.reshape(predicts[1].argmax(-1), [-1])\n",
        "\n",
        "ner_ignores = tf.where(tf.not_equal(ner_tags_true, -100))\n",
        "pos_ignores = tf.where(tf.not_equal(pos_tags_true, -100))"
      ]
    },
    {
      "cell_type": "code",
      "execution_count": 12,
      "metadata": {
        "id": "7kxBylrXaBu5"
      },
      "outputs": [],
      "source": [
        "ner_tags_true = tf.gather(ner_tags_true, ner_ignores)\n",
        "pos_tags_true = tf.gather(pos_tags_true, pos_ignores)\n",
        "\n",
        "ner_tags_pred = tf.gather(ner_tags_pred, ner_ignores)\n",
        "pos_tags_pred = tf.gather(pos_tags_pred, pos_ignores)"
      ]
    },
    {
      "cell_type": "markdown",
      "metadata": {},
      "source": [
        "Results of model for each tasks:\n",
        "\n",
        "NER:"
      ]
    },
    {
      "cell_type": "code",
      "execution_count": 13,
      "metadata": {
        "colab": {
          "base_uri": "https://localhost:8080/"
        },
        "id": "18GdqL6GnXqf",
        "outputId": "2aec6861-6b45-4b02-959b-a0c0109df2f6"
      },
      "outputs": [
        {
          "name": "stdout",
          "output_type": "stream",
          "text": [
            "NER Recall: 0.9763\n",
            "NER Accuracy: 0.9763\n",
            "NER Precision: 0.9763\n",
            "NER F1-macro score: 0.9763\n"
          ]
        }
      ],
      "source": [
        "print(\"NER Recall: {0:.4f}\".format(recall_score(ner_tags_true, ner_tags_pred, average='micro')))\n",
        "print(\"NER Accuracy: {0:.4f}\".format(accuracy_score(ner_tags_true, ner_tags_pred)))\n",
        "print(\"NER Precision: {0:.4f}\".format(precision_score(ner_tags_true, ner_tags_pred, average='micro')))\n",
        "print('NER F1-macro score: {0:.4f}'.format(f1_score(ner_tags_true, ner_tags_pred, average='micro')))"
      ]
    },
    {
      "cell_type": "code",
      "execution_count": 14,
      "metadata": {
        "colab": {
          "base_uri": "https://localhost:8080/"
        },
        "id": "4r6UsM2J9AJm",
        "outputId": "ee2c5e64-c4ea-4eec-bf2a-187f78e044a7"
      },
      "outputs": [
        {
          "name": "stdout",
          "output_type": "stream",
          "text": [
            "              precision    recall  f1-score   support\n",
            "\n",
            "           0     0.9875    0.9923    0.9899     39888\n",
            "           1     0.9359    0.9492    0.9425      1614\n",
            "           2     0.9501    0.9526    0.9514      1119\n",
            "           3     0.9178    0.8792    0.8981      1498\n",
            "           4     0.9092    0.8154    0.8598       921\n",
            "           5     0.9183    0.9429    0.9304      1681\n",
            "           6     0.9333    0.8376    0.8829       234\n",
            "           7     0.8922    0.8317    0.8609       796\n",
            "           8     0.8099    0.7259    0.7656       270\n",
            "\n",
            "    accuracy                         0.9763     48021\n",
            "   macro avg     0.9171    0.8808    0.8979     48021\n",
            "weighted avg     0.9759    0.9763    0.9760     48021\n",
            "\n"
          ]
        }
      ],
      "source": [
        "print(classification_report(ner_tags_true, ner_tags_pred, digits=4))"
      ]
    },
    {
      "cell_type": "markdown",
      "metadata": {
        "id": "TeNmJo0T0bm4"
      },
      "source": [
        "POS:"
      ]
    },
    {
      "cell_type": "code",
      "execution_count": 15,
      "metadata": {
        "colab": {
          "base_uri": "https://localhost:8080/"
        },
        "id": "tNKJAVpZ62e6",
        "outputId": "abf97828-3d9f-4c1a-c514-9a039fe2643b"
      },
      "outputs": [
        {
          "name": "stdout",
          "output_type": "stream",
          "text": [
            "POS Recall: 0.9116\n",
            "POS Accuracy: 0.9116\n",
            "POS Precision: 0.9116\n",
            "POS F1-macro score: 0.9116\n"
          ]
        }
      ],
      "source": [
        "print(\"POS Recall: {0:.4f}\".format(recall_score(pos_tags_true, pos_tags_pred, average='micro')))\n",
        "print(\"POS Accuracy: {0:.4f}\".format(accuracy_score(pos_tags_true, pos_tags_pred)))\n",
        "print(\"POS Precision: {0:.4f}\".format(precision_score(pos_tags_true, pos_tags_pred, average='micro')))\n",
        "print('POS F1-macro score: {0:.4f}'.format(f1_score(pos_tags_true, pos_tags_pred, average='micro')))"
      ]
    },
    {
      "cell_type": "code",
      "execution_count": 16,
      "metadata": {
        "colab": {
          "base_uri": "https://localhost:8080/"
        },
        "id": "0PIOwOAW82x_",
        "outputId": "813f328b-8b60-407a-defe-200975a50aad"
      },
      "outputs": [
        {
          "name": "stdout",
          "output_type": "stream",
          "text": [
            "              precision    recall  f1-score   support\n",
            "\n",
            "           0     0.9793    0.9525    0.9657       547\n",
            "           1     1.0000    0.7500    0.8571         4\n",
            "           2     0.9221    0.7889    0.8503        90\n",
            "           3     0.9567    0.9641    0.9604       641\n",
            "           4     0.9556    0.9333    0.9443       645\n",
            "           5     0.8921    0.9572    0.9235      1753\n",
            "           6     0.9401    0.9537    0.9469      1728\n",
            "           7     0.9363    0.9242    0.9302       541\n",
            "           8     0.9308    0.9474    0.9390       837\n",
            "           9     0.9520    0.9499    0.9510      4655\n",
            "          10     0.9512    0.9632    0.9572      3238\n",
            "          11     0.9730    0.8780    0.9231        41\n",
            "          12     0.7931    0.5610    0.6571        41\n",
            "          13     0.9325    0.9409    0.9367      4465\n",
            "          14     0.8639    0.7901    0.8253      2796\n",
            "          15     0.7196    0.7857    0.7512        98\n",
            "          16     0.8507    0.8507    0.8507        67\n",
            "          17     1.0000    0.5000    0.6667         8\n",
            "          18     0.9542    0.9470    0.9506       264\n",
            "          19     0.8873    0.8646    0.8758      5526\n",
            "          20     0.8890    0.9245    0.9064      8216\n",
            "          21     0.6410    0.5405    0.5865       185\n",
            "          22     0.9304    0.8938    0.9118      2260\n",
            "          23     0.0000    0.0000    0.0000         0\n",
            "          24     0.5714    0.5714    0.5714         7\n",
            "          25     0.9398    0.9292    0.9345       353\n",
            "          26     0.9556    0.9712    0.9633       798\n",
            "          27     0.9045    0.9352    0.9196       324\n",
            "          28     0.8829    0.8340    0.8578       958\n",
            "          29     0.6923    0.4000    0.5070        45\n",
            "          30     0.7500    0.4615    0.5714        13\n",
            "          31     0.7664    0.7130    0.7387       115\n",
            "          32     0.9467    0.7978    0.8659        89\n",
            "          33     0.9609    0.9586    0.9597       845\n",
            "          34     0.3333    0.2857    0.3077         7\n",
            "          35     0.9015    0.9060    0.9037      1000\n",
            "          36     0.8980    0.9260    0.9118      1987\n",
            "          37     0.8808    0.9207    0.9003       618\n",
            "          38     0.8669    0.8462    0.8564       962\n",
            "          39     0.8733    0.8930    0.8830       355\n",
            "          40     0.8913    0.8786    0.8849       560\n",
            "          41     0.8390    0.9340    0.8839       106\n",
            "          42     0.9746    0.9055    0.9388       127\n",
            "          43     1.0000    0.7500    0.8571        12\n",
            "          44     0.9570    0.9468    0.9519        94\n",
            "\n",
            "    accuracy                         0.9116     48021\n",
            "   macro avg     0.8586    0.8072    0.8275     48021\n",
            "weighted avg     0.9112    0.9116    0.9110     48021\n",
            "\n"
          ]
        },
        {
          "name": "stderr",
          "output_type": "stream",
          "text": [
            "/usr/local/lib/python3.10/dist-packages/sklearn/metrics/_classification.py:1344: UndefinedMetricWarning: Recall and F-score are ill-defined and being set to 0.0 in labels with no true samples. Use `zero_division` parameter to control this behavior.\n",
            "  _warn_prf(average, modifier, msg_start, len(result))\n",
            "/usr/local/lib/python3.10/dist-packages/sklearn/metrics/_classification.py:1344: UndefinedMetricWarning: Recall and F-score are ill-defined and being set to 0.0 in labels with no true samples. Use `zero_division` parameter to control this behavior.\n",
            "  _warn_prf(average, modifier, msg_start, len(result))\n",
            "/usr/local/lib/python3.10/dist-packages/sklearn/metrics/_classification.py:1344: UndefinedMetricWarning: Recall and F-score are ill-defined and being set to 0.0 in labels with no true samples. Use `zero_division` parameter to control this behavior.\n",
            "  _warn_prf(average, modifier, msg_start, len(result))\n"
          ]
        }
      ],
      "source": [
        "print(classification_report(pos_tags_true, pos_tags_pred, digits=4))"
      ]
    },
    {
      "cell_type": "markdown",
      "metadata": {
        "id": "nW5EnVgOevTc"
      },
      "source": [
        "## Making Prediction on Test Dataset"
      ]
    },
    {
      "cell_type": "code",
      "execution_count": 17,
      "metadata": {
        "colab": {
          "base_uri": "https://localhost:8080/"
        },
        "id": "fqOOXbTPe4GC",
        "outputId": "e10da29e-5b6d-4217-f954-585027ad05c4"
      },
      "outputs": [
        {
          "name": "stdout",
          "output_type": "stream",
          "text": [
            "54/54 [==============================] - 32s 525ms/step\n"
          ]
        }
      ],
      "source": [
        "predicts = model.predict(testset)\n",
        "with open('./drive/MyDrive/POS_NER/test.pickle', 'rb') as f:\n",
        "    x_test = pk.load(f)\n",
        "    x_test_preprocessed = tokenizer(\n",
        "        [\" \".join(tokens) for tokens in x_test[\"tokens\"]],\n",
        "        return_tensors=\"tf\",\n",
        "        truncation=True,\n",
        "        padding=\"max_length\",\n",
        "        max_length=128\n",
        "    )"
      ]
    },
    {
      "cell_type": "code",
      "execution_count": 18,
      "metadata": {
        "id": "gKU7JttpooQV"
      },
      "outputs": [],
      "source": [
        "data = {\n",
        "    \"tokens\": [],\n",
        "    \"ner_tags\": [],\n",
        "    \"pos_tags\": []\n",
        "}\n",
        "\n",
        "ner_predicts = predicts[0].argmax(-1)\n",
        "pos_predicts = predicts[1].argmax(-1)\n",
        "for idx in range(len(x_test[\"tokens\"])):\n",
        "    ids = x_test_preprocessed.word_ids(idx)\n",
        "    data[\"tokens\"].append(x_test[\"tokens\"][idx])\n",
        "    data[\"ner_tags\"].append([ner_predicts[idx][ids.index(i)] for i in range(len(x_test[\"tokens\"][idx]))])\n",
        "    data[\"pos_tags\"].append([pos_predicts[idx][ids.index(i)] for i in range(len(x_test[\"tokens\"][idx]))])\n",
        "\n",
        "with open('./drive/MyDrive/POS_NER/test_pred.pickle', 'wb') as f:\n",
        "    pk.dump(data, f, protocol=pk.HIGHEST_PROTOCOL)"
      ]
    }
  ],
  "metadata": {
    "accelerator": "GPU",
    "colab": {
      "provenance": []
    },
    "kernelspec": {
      "display_name": "Python 3",
      "name": "python3"
    },
    "language_info": {
      "name": "python"
    },
    "widgets": {
      "application/vnd.jupyter.widget-state+json": {
        "03794701e2334115a3ddcb99a4feeb36": {
          "model_module": "@jupyter-widgets/base",
          "model_module_version": "1.2.0",
          "model_name": "LayoutModel",
          "state": {
            "_model_module": "@jupyter-widgets/base",
            "_model_module_version": "1.2.0",
            "_model_name": "LayoutModel",
            "_view_count": null,
            "_view_module": "@jupyter-widgets/base",
            "_view_module_version": "1.2.0",
            "_view_name": "LayoutView",
            "align_content": null,
            "align_items": null,
            "align_self": null,
            "border": null,
            "bottom": null,
            "display": null,
            "flex": null,
            "flex_flow": null,
            "grid_area": null,
            "grid_auto_columns": null,
            "grid_auto_flow": null,
            "grid_auto_rows": null,
            "grid_column": null,
            "grid_gap": null,
            "grid_row": null,
            "grid_template_areas": null,
            "grid_template_columns": null,
            "grid_template_rows": null,
            "height": null,
            "justify_content": null,
            "justify_items": null,
            "left": null,
            "margin": null,
            "max_height": null,
            "max_width": null,
            "min_height": null,
            "min_width": null,
            "object_fit": null,
            "object_position": null,
            "order": null,
            "overflow": null,
            "overflow_x": null,
            "overflow_y": null,
            "padding": null,
            "right": null,
            "top": null,
            "visibility": null,
            "width": null
          }
        },
        "0f79e982a308488bbfa990ca81849b22": {
          "model_module": "@jupyter-widgets/controls",
          "model_module_version": "1.5.0",
          "model_name": "HBoxModel",
          "state": {
            "_dom_classes": [],
            "_model_module": "@jupyter-widgets/controls",
            "_model_module_version": "1.5.0",
            "_model_name": "HBoxModel",
            "_view_count": null,
            "_view_module": "@jupyter-widgets/controls",
            "_view_module_version": "1.5.0",
            "_view_name": "HBoxView",
            "box_style": "",
            "children": [
              "IPY_MODEL_a067f6e2a47046568aea567fda32bde9",
              "IPY_MODEL_a333ff74c7da42d2865b7392a70f3a04",
              "IPY_MODEL_1e9385c21ec74600854bc848ecf09ed1"
            ],
            "layout": "IPY_MODEL_e2435aebcb174abbb0ecf0f77da4df9f"
          }
        },
        "108fd4d1649a49f2b7773e10e6fccb48": {
          "model_module": "@jupyter-widgets/base",
          "model_module_version": "1.2.0",
          "model_name": "LayoutModel",
          "state": {
            "_model_module": "@jupyter-widgets/base",
            "_model_module_version": "1.2.0",
            "_model_name": "LayoutModel",
            "_view_count": null,
            "_view_module": "@jupyter-widgets/base",
            "_view_module_version": "1.2.0",
            "_view_name": "LayoutView",
            "align_content": null,
            "align_items": null,
            "align_self": null,
            "border": null,
            "bottom": null,
            "display": null,
            "flex": null,
            "flex_flow": null,
            "grid_area": null,
            "grid_auto_columns": null,
            "grid_auto_flow": null,
            "grid_auto_rows": null,
            "grid_column": null,
            "grid_gap": null,
            "grid_row": null,
            "grid_template_areas": null,
            "grid_template_columns": null,
            "grid_template_rows": null,
            "height": null,
            "justify_content": null,
            "justify_items": null,
            "left": null,
            "margin": null,
            "max_height": null,
            "max_width": null,
            "min_height": null,
            "min_width": null,
            "object_fit": null,
            "object_position": null,
            "order": null,
            "overflow": null,
            "overflow_x": null,
            "overflow_y": null,
            "padding": null,
            "right": null,
            "top": null,
            "visibility": null,
            "width": null
          }
        },
        "16106937bc8845b0bb8d8dd07b5f87b1": {
          "model_module": "@jupyter-widgets/controls",
          "model_module_version": "1.5.0",
          "model_name": "HTMLModel",
          "state": {
            "_dom_classes": [],
            "_model_module": "@jupyter-widgets/controls",
            "_model_module_version": "1.5.0",
            "_model_name": "HTMLModel",
            "_view_count": null,
            "_view_module": "@jupyter-widgets/controls",
            "_view_module_version": "1.5.0",
            "_view_name": "HTMLView",
            "description": "",
            "description_tooltip": null,
            "layout": "IPY_MODEL_1e57b4f39e604926a64d8d0c3809369c",
            "placeholder": "​",
            "style": "IPY_MODEL_90af23ac6fbf49a29891e09fdda287cc",
            "value": " 440M/440M [00:05&lt;00:00, 131MB/s]"
          }
        },
        "166789373fa14f158288d824d16c200f": {
          "model_module": "@jupyter-widgets/base",
          "model_module_version": "1.2.0",
          "model_name": "LayoutModel",
          "state": {
            "_model_module": "@jupyter-widgets/base",
            "_model_module_version": "1.2.0",
            "_model_name": "LayoutModel",
            "_view_count": null,
            "_view_module": "@jupyter-widgets/base",
            "_view_module_version": "1.2.0",
            "_view_name": "LayoutView",
            "align_content": null,
            "align_items": null,
            "align_self": null,
            "border": null,
            "bottom": null,
            "display": null,
            "flex": null,
            "flex_flow": null,
            "grid_area": null,
            "grid_auto_columns": null,
            "grid_auto_flow": null,
            "grid_auto_rows": null,
            "grid_column": null,
            "grid_gap": null,
            "grid_row": null,
            "grid_template_areas": null,
            "grid_template_columns": null,
            "grid_template_rows": null,
            "height": null,
            "justify_content": null,
            "justify_items": null,
            "left": null,
            "margin": null,
            "max_height": null,
            "max_width": null,
            "min_height": null,
            "min_width": null,
            "object_fit": null,
            "object_position": null,
            "order": null,
            "overflow": null,
            "overflow_x": null,
            "overflow_y": null,
            "padding": null,
            "right": null,
            "top": null,
            "visibility": null,
            "width": null
          }
        },
        "1d213f23dd934a1ebe5c6df135265d56": {
          "model_module": "@jupyter-widgets/base",
          "model_module_version": "1.2.0",
          "model_name": "LayoutModel",
          "state": {
            "_model_module": "@jupyter-widgets/base",
            "_model_module_version": "1.2.0",
            "_model_name": "LayoutModel",
            "_view_count": null,
            "_view_module": "@jupyter-widgets/base",
            "_view_module_version": "1.2.0",
            "_view_name": "LayoutView",
            "align_content": null,
            "align_items": null,
            "align_self": null,
            "border": null,
            "bottom": null,
            "display": null,
            "flex": null,
            "flex_flow": null,
            "grid_area": null,
            "grid_auto_columns": null,
            "grid_auto_flow": null,
            "grid_auto_rows": null,
            "grid_column": null,
            "grid_gap": null,
            "grid_row": null,
            "grid_template_areas": null,
            "grid_template_columns": null,
            "grid_template_rows": null,
            "height": null,
            "justify_content": null,
            "justify_items": null,
            "left": null,
            "margin": null,
            "max_height": null,
            "max_width": null,
            "min_height": null,
            "min_width": null,
            "object_fit": null,
            "object_position": null,
            "order": null,
            "overflow": null,
            "overflow_x": null,
            "overflow_y": null,
            "padding": null,
            "right": null,
            "top": null,
            "visibility": null,
            "width": null
          }
        },
        "1e57b4f39e604926a64d8d0c3809369c": {
          "model_module": "@jupyter-widgets/base",
          "model_module_version": "1.2.0",
          "model_name": "LayoutModel",
          "state": {
            "_model_module": "@jupyter-widgets/base",
            "_model_module_version": "1.2.0",
            "_model_name": "LayoutModel",
            "_view_count": null,
            "_view_module": "@jupyter-widgets/base",
            "_view_module_version": "1.2.0",
            "_view_name": "LayoutView",
            "align_content": null,
            "align_items": null,
            "align_self": null,
            "border": null,
            "bottom": null,
            "display": null,
            "flex": null,
            "flex_flow": null,
            "grid_area": null,
            "grid_auto_columns": null,
            "grid_auto_flow": null,
            "grid_auto_rows": null,
            "grid_column": null,
            "grid_gap": null,
            "grid_row": null,
            "grid_template_areas": null,
            "grid_template_columns": null,
            "grid_template_rows": null,
            "height": null,
            "justify_content": null,
            "justify_items": null,
            "left": null,
            "margin": null,
            "max_height": null,
            "max_width": null,
            "min_height": null,
            "min_width": null,
            "object_fit": null,
            "object_position": null,
            "order": null,
            "overflow": null,
            "overflow_x": null,
            "overflow_y": null,
            "padding": null,
            "right": null,
            "top": null,
            "visibility": null,
            "width": null
          }
        },
        "1e9385c21ec74600854bc848ecf09ed1": {
          "model_module": "@jupyter-widgets/controls",
          "model_module_version": "1.5.0",
          "model_name": "HTMLModel",
          "state": {
            "_dom_classes": [],
            "_model_module": "@jupyter-widgets/controls",
            "_model_module_version": "1.5.0",
            "_model_name": "HTMLModel",
            "_view_count": null,
            "_view_module": "@jupyter-widgets/controls",
            "_view_module_version": "1.5.0",
            "_view_name": "HTMLView",
            "description": "",
            "description_tooltip": null,
            "layout": "IPY_MODEL_277729ae0c0e48ee9689462375fb99df",
            "placeholder": "​",
            "style": "IPY_MODEL_c368024606fd426785d4aaf70ab0bf69",
            "value": " 466k/466k [00:00&lt;00:00, 20.8MB/s]"
          }
        },
        "2021de9374254bd48f055c5e18ddb613": {
          "model_module": "@jupyter-widgets/base",
          "model_module_version": "1.2.0",
          "model_name": "LayoutModel",
          "state": {
            "_model_module": "@jupyter-widgets/base",
            "_model_module_version": "1.2.0",
            "_model_name": "LayoutModel",
            "_view_count": null,
            "_view_module": "@jupyter-widgets/base",
            "_view_module_version": "1.2.0",
            "_view_name": "LayoutView",
            "align_content": null,
            "align_items": null,
            "align_self": null,
            "border": null,
            "bottom": null,
            "display": null,
            "flex": null,
            "flex_flow": null,
            "grid_area": null,
            "grid_auto_columns": null,
            "grid_auto_flow": null,
            "grid_auto_rows": null,
            "grid_column": null,
            "grid_gap": null,
            "grid_row": null,
            "grid_template_areas": null,
            "grid_template_columns": null,
            "grid_template_rows": null,
            "height": null,
            "justify_content": null,
            "justify_items": null,
            "left": null,
            "margin": null,
            "max_height": null,
            "max_width": null,
            "min_height": null,
            "min_width": null,
            "object_fit": null,
            "object_position": null,
            "order": null,
            "overflow": null,
            "overflow_x": null,
            "overflow_y": null,
            "padding": null,
            "right": null,
            "top": null,
            "visibility": null,
            "width": null
          }
        },
        "222cef3ac6d3442a96c8a73c32c2e598": {
          "model_module": "@jupyter-widgets/controls",
          "model_module_version": "1.5.0",
          "model_name": "DescriptionStyleModel",
          "state": {
            "_model_module": "@jupyter-widgets/controls",
            "_model_module_version": "1.5.0",
            "_model_name": "DescriptionStyleModel",
            "_view_count": null,
            "_view_module": "@jupyter-widgets/base",
            "_view_module_version": "1.2.0",
            "_view_name": "StyleView",
            "description_width": ""
          }
        },
        "23946be363794299a6bd6889af9310e7": {
          "model_module": "@jupyter-widgets/controls",
          "model_module_version": "1.5.0",
          "model_name": "ProgressStyleModel",
          "state": {
            "_model_module": "@jupyter-widgets/controls",
            "_model_module_version": "1.5.0",
            "_model_name": "ProgressStyleModel",
            "_view_count": null,
            "_view_module": "@jupyter-widgets/base",
            "_view_module_version": "1.2.0",
            "_view_name": "StyleView",
            "bar_color": null,
            "description_width": ""
          }
        },
        "277729ae0c0e48ee9689462375fb99df": {
          "model_module": "@jupyter-widgets/base",
          "model_module_version": "1.2.0",
          "model_name": "LayoutModel",
          "state": {
            "_model_module": "@jupyter-widgets/base",
            "_model_module_version": "1.2.0",
            "_model_name": "LayoutModel",
            "_view_count": null,
            "_view_module": "@jupyter-widgets/base",
            "_view_module_version": "1.2.0",
            "_view_name": "LayoutView",
            "align_content": null,
            "align_items": null,
            "align_self": null,
            "border": null,
            "bottom": null,
            "display": null,
            "flex": null,
            "flex_flow": null,
            "grid_area": null,
            "grid_auto_columns": null,
            "grid_auto_flow": null,
            "grid_auto_rows": null,
            "grid_column": null,
            "grid_gap": null,
            "grid_row": null,
            "grid_template_areas": null,
            "grid_template_columns": null,
            "grid_template_rows": null,
            "height": null,
            "justify_content": null,
            "justify_items": null,
            "left": null,
            "margin": null,
            "max_height": null,
            "max_width": null,
            "min_height": null,
            "min_width": null,
            "object_fit": null,
            "object_position": null,
            "order": null,
            "overflow": null,
            "overflow_x": null,
            "overflow_y": null,
            "padding": null,
            "right": null,
            "top": null,
            "visibility": null,
            "width": null
          }
        },
        "2fe792df48a04ec7812732872cd323e3": {
          "model_module": "@jupyter-widgets/controls",
          "model_module_version": "1.5.0",
          "model_name": "HBoxModel",
          "state": {
            "_dom_classes": [],
            "_model_module": "@jupyter-widgets/controls",
            "_model_module_version": "1.5.0",
            "_model_name": "HBoxModel",
            "_view_count": null,
            "_view_module": "@jupyter-widgets/controls",
            "_view_module_version": "1.5.0",
            "_view_name": "HBoxView",
            "box_style": "",
            "children": [
              "IPY_MODEL_5c5561ea45c14d61bde9172cda4e962c",
              "IPY_MODEL_b176ac6c7db04230be63e18998be2dbb",
              "IPY_MODEL_c792a92b03c34104a20acd6a5fb98494"
            ],
            "layout": "IPY_MODEL_6192cc6e2fbb45cd8a07cc2f731e2849"
          }
        },
        "303b9a6f457a400584232607342f758d": {
          "model_module": "@jupyter-widgets/controls",
          "model_module_version": "1.5.0",
          "model_name": "ProgressStyleModel",
          "state": {
            "_model_module": "@jupyter-widgets/controls",
            "_model_module_version": "1.5.0",
            "_model_name": "ProgressStyleModel",
            "_view_count": null,
            "_view_module": "@jupyter-widgets/base",
            "_view_module_version": "1.2.0",
            "_view_name": "StyleView",
            "bar_color": null,
            "description_width": ""
          }
        },
        "30a628e0e86c401faef87c9f5590f078": {
          "model_module": "@jupyter-widgets/controls",
          "model_module_version": "1.5.0",
          "model_name": "DescriptionStyleModel",
          "state": {
            "_model_module": "@jupyter-widgets/controls",
            "_model_module_version": "1.5.0",
            "_model_name": "DescriptionStyleModel",
            "_view_count": null,
            "_view_module": "@jupyter-widgets/base",
            "_view_module_version": "1.2.0",
            "_view_name": "StyleView",
            "description_width": ""
          }
        },
        "35390acc1128448582b09bd82eb88816": {
          "model_module": "@jupyter-widgets/controls",
          "model_module_version": "1.5.0",
          "model_name": "DescriptionStyleModel",
          "state": {
            "_model_module": "@jupyter-widgets/controls",
            "_model_module_version": "1.5.0",
            "_model_name": "DescriptionStyleModel",
            "_view_count": null,
            "_view_module": "@jupyter-widgets/base",
            "_view_module_version": "1.2.0",
            "_view_name": "StyleView",
            "description_width": ""
          }
        },
        "37e24dd8d3b3434bbef259ce83297137": {
          "model_module": "@jupyter-widgets/controls",
          "model_module_version": "1.5.0",
          "model_name": "ProgressStyleModel",
          "state": {
            "_model_module": "@jupyter-widgets/controls",
            "_model_module_version": "1.5.0",
            "_model_name": "ProgressStyleModel",
            "_view_count": null,
            "_view_module": "@jupyter-widgets/base",
            "_view_module_version": "1.2.0",
            "_view_name": "StyleView",
            "bar_color": null,
            "description_width": ""
          }
        },
        "414fa134fb504b8180c579193766febf": {
          "model_module": "@jupyter-widgets/base",
          "model_module_version": "1.2.0",
          "model_name": "LayoutModel",
          "state": {
            "_model_module": "@jupyter-widgets/base",
            "_model_module_version": "1.2.0",
            "_model_name": "LayoutModel",
            "_view_count": null,
            "_view_module": "@jupyter-widgets/base",
            "_view_module_version": "1.2.0",
            "_view_name": "LayoutView",
            "align_content": null,
            "align_items": null,
            "align_self": null,
            "border": null,
            "bottom": null,
            "display": null,
            "flex": null,
            "flex_flow": null,
            "grid_area": null,
            "grid_auto_columns": null,
            "grid_auto_flow": null,
            "grid_auto_rows": null,
            "grid_column": null,
            "grid_gap": null,
            "grid_row": null,
            "grid_template_areas": null,
            "grid_template_columns": null,
            "grid_template_rows": null,
            "height": null,
            "justify_content": null,
            "justify_items": null,
            "left": null,
            "margin": null,
            "max_height": null,
            "max_width": null,
            "min_height": null,
            "min_width": null,
            "object_fit": null,
            "object_position": null,
            "order": null,
            "overflow": null,
            "overflow_x": null,
            "overflow_y": null,
            "padding": null,
            "right": null,
            "top": null,
            "visibility": null,
            "width": null
          }
        },
        "43cfbee60fe8483a96bf92940c745d05": {
          "model_module": "@jupyter-widgets/controls",
          "model_module_version": "1.5.0",
          "model_name": "DescriptionStyleModel",
          "state": {
            "_model_module": "@jupyter-widgets/controls",
            "_model_module_version": "1.5.0",
            "_model_name": "DescriptionStyleModel",
            "_view_count": null,
            "_view_module": "@jupyter-widgets/base",
            "_view_module_version": "1.2.0",
            "_view_name": "StyleView",
            "description_width": ""
          }
        },
        "5477b0bcceb14b01a4244ef7a2bf77c2": {
          "model_module": "@jupyter-widgets/controls",
          "model_module_version": "1.5.0",
          "model_name": "HBoxModel",
          "state": {
            "_dom_classes": [],
            "_model_module": "@jupyter-widgets/controls",
            "_model_module_version": "1.5.0",
            "_model_name": "HBoxModel",
            "_view_count": null,
            "_view_module": "@jupyter-widgets/controls",
            "_view_module_version": "1.5.0",
            "_view_name": "HBoxView",
            "box_style": "",
            "children": [
              "IPY_MODEL_d6c9df7496274cd5b2775f110b68cedb",
              "IPY_MODEL_dc40b97395bd47a99d078099397a4a2c",
              "IPY_MODEL_16106937bc8845b0bb8d8dd07b5f87b1"
            ],
            "layout": "IPY_MODEL_70398a9a05f64c8990ef72deeb809fa5"
          }
        },
        "585e7e648e824edf98c497ebb9604360": {
          "model_module": "@jupyter-widgets/base",
          "model_module_version": "1.2.0",
          "model_name": "LayoutModel",
          "state": {
            "_model_module": "@jupyter-widgets/base",
            "_model_module_version": "1.2.0",
            "_model_name": "LayoutModel",
            "_view_count": null,
            "_view_module": "@jupyter-widgets/base",
            "_view_module_version": "1.2.0",
            "_view_name": "LayoutView",
            "align_content": null,
            "align_items": null,
            "align_self": null,
            "border": null,
            "bottom": null,
            "display": null,
            "flex": null,
            "flex_flow": null,
            "grid_area": null,
            "grid_auto_columns": null,
            "grid_auto_flow": null,
            "grid_auto_rows": null,
            "grid_column": null,
            "grid_gap": null,
            "grid_row": null,
            "grid_template_areas": null,
            "grid_template_columns": null,
            "grid_template_rows": null,
            "height": null,
            "justify_content": null,
            "justify_items": null,
            "left": null,
            "margin": null,
            "max_height": null,
            "max_width": null,
            "min_height": null,
            "min_width": null,
            "object_fit": null,
            "object_position": null,
            "order": null,
            "overflow": null,
            "overflow_x": null,
            "overflow_y": null,
            "padding": null,
            "right": null,
            "top": null,
            "visibility": null,
            "width": null
          }
        },
        "5c5561ea45c14d61bde9172cda4e962c": {
          "model_module": "@jupyter-widgets/controls",
          "model_module_version": "1.5.0",
          "model_name": "HTMLModel",
          "state": {
            "_dom_classes": [],
            "_model_module": "@jupyter-widgets/controls",
            "_model_module_version": "1.5.0",
            "_model_name": "HTMLModel",
            "_view_count": null,
            "_view_module": "@jupyter-widgets/controls",
            "_view_module_version": "1.5.0",
            "_view_name": "HTMLView",
            "description": "",
            "description_tooltip": null,
            "layout": "IPY_MODEL_414fa134fb504b8180c579193766febf",
            "placeholder": "​",
            "style": "IPY_MODEL_30a628e0e86c401faef87c9f5590f078",
            "value": "Downloading (…)okenizer_config.json: 100%"
          }
        },
        "6192cc6e2fbb45cd8a07cc2f731e2849": {
          "model_module": "@jupyter-widgets/base",
          "model_module_version": "1.2.0",
          "model_name": "LayoutModel",
          "state": {
            "_model_module": "@jupyter-widgets/base",
            "_model_module_version": "1.2.0",
            "_model_name": "LayoutModel",
            "_view_count": null,
            "_view_module": "@jupyter-widgets/base",
            "_view_module_version": "1.2.0",
            "_view_name": "LayoutView",
            "align_content": null,
            "align_items": null,
            "align_self": null,
            "border": null,
            "bottom": null,
            "display": null,
            "flex": null,
            "flex_flow": null,
            "grid_area": null,
            "grid_auto_columns": null,
            "grid_auto_flow": null,
            "grid_auto_rows": null,
            "grid_column": null,
            "grid_gap": null,
            "grid_row": null,
            "grid_template_areas": null,
            "grid_template_columns": null,
            "grid_template_rows": null,
            "height": null,
            "justify_content": null,
            "justify_items": null,
            "left": null,
            "margin": null,
            "max_height": null,
            "max_width": null,
            "min_height": null,
            "min_width": null,
            "object_fit": null,
            "object_position": null,
            "order": null,
            "overflow": null,
            "overflow_x": null,
            "overflow_y": null,
            "padding": null,
            "right": null,
            "top": null,
            "visibility": null,
            "width": null
          }
        },
        "6747e4273bbe490f8eb27a530f17ddb3": {
          "model_module": "@jupyter-widgets/controls",
          "model_module_version": "1.5.0",
          "model_name": "HTMLModel",
          "state": {
            "_dom_classes": [],
            "_model_module": "@jupyter-widgets/controls",
            "_model_module_version": "1.5.0",
            "_model_name": "HTMLModel",
            "_view_count": null,
            "_view_module": "@jupyter-widgets/controls",
            "_view_module_version": "1.5.0",
            "_view_name": "HTMLView",
            "description": "",
            "description_tooltip": null,
            "layout": "IPY_MODEL_d99d5c49c5864f9cb0ab9386dcd6391d",
            "placeholder": "​",
            "style": "IPY_MODEL_97c8fe08e41d4bcb847531cf16b2608c",
            "value": "Downloading (…)lve/main/config.json: 100%"
          }
        },
        "68c39412b11b4ecf8486e50b409ed272": {
          "model_module": "@jupyter-widgets/controls",
          "model_module_version": "1.5.0",
          "model_name": "DescriptionStyleModel",
          "state": {
            "_model_module": "@jupyter-widgets/controls",
            "_model_module_version": "1.5.0",
            "_model_name": "DescriptionStyleModel",
            "_view_count": null,
            "_view_module": "@jupyter-widgets/base",
            "_view_module_version": "1.2.0",
            "_view_name": "StyleView",
            "description_width": ""
          }
        },
        "70398a9a05f64c8990ef72deeb809fa5": {
          "model_module": "@jupyter-widgets/base",
          "model_module_version": "1.2.0",
          "model_name": "LayoutModel",
          "state": {
            "_model_module": "@jupyter-widgets/base",
            "_model_module_version": "1.2.0",
            "_model_name": "LayoutModel",
            "_view_count": null,
            "_view_module": "@jupyter-widgets/base",
            "_view_module_version": "1.2.0",
            "_view_name": "LayoutView",
            "align_content": null,
            "align_items": null,
            "align_self": null,
            "border": null,
            "bottom": null,
            "display": null,
            "flex": null,
            "flex_flow": null,
            "grid_area": null,
            "grid_auto_columns": null,
            "grid_auto_flow": null,
            "grid_auto_rows": null,
            "grid_column": null,
            "grid_gap": null,
            "grid_row": null,
            "grid_template_areas": null,
            "grid_template_columns": null,
            "grid_template_rows": null,
            "height": null,
            "justify_content": null,
            "justify_items": null,
            "left": null,
            "margin": null,
            "max_height": null,
            "max_width": null,
            "min_height": null,
            "min_width": null,
            "object_fit": null,
            "object_position": null,
            "order": null,
            "overflow": null,
            "overflow_x": null,
            "overflow_y": null,
            "padding": null,
            "right": null,
            "top": null,
            "visibility": null,
            "width": null
          }
        },
        "77bb8881c7ed4673bc02da2b77bd8286": {
          "model_module": "@jupyter-widgets/controls",
          "model_module_version": "1.5.0",
          "model_name": "HBoxModel",
          "state": {
            "_dom_classes": [],
            "_model_module": "@jupyter-widgets/controls",
            "_model_module_version": "1.5.0",
            "_model_name": "HBoxModel",
            "_view_count": null,
            "_view_module": "@jupyter-widgets/controls",
            "_view_module_version": "1.5.0",
            "_view_name": "HBoxView",
            "box_style": "",
            "children": [
              "IPY_MODEL_8f6e82982cc14c778352a74855a26709",
              "IPY_MODEL_8a13969e688c4d41bc73bcdfce43ec0c",
              "IPY_MODEL_ff93677b68424e03828e4683294f8df1"
            ],
            "layout": "IPY_MODEL_166789373fa14f158288d824d16c200f"
          }
        },
        "79314045ddce49189ff1d4c8a3e030bd": {
          "model_module": "@jupyter-widgets/base",
          "model_module_version": "1.2.0",
          "model_name": "LayoutModel",
          "state": {
            "_model_module": "@jupyter-widgets/base",
            "_model_module_version": "1.2.0",
            "_model_name": "LayoutModel",
            "_view_count": null,
            "_view_module": "@jupyter-widgets/base",
            "_view_module_version": "1.2.0",
            "_view_name": "LayoutView",
            "align_content": null,
            "align_items": null,
            "align_self": null,
            "border": null,
            "bottom": null,
            "display": null,
            "flex": null,
            "flex_flow": null,
            "grid_area": null,
            "grid_auto_columns": null,
            "grid_auto_flow": null,
            "grid_auto_rows": null,
            "grid_column": null,
            "grid_gap": null,
            "grid_row": null,
            "grid_template_areas": null,
            "grid_template_columns": null,
            "grid_template_rows": null,
            "height": null,
            "justify_content": null,
            "justify_items": null,
            "left": null,
            "margin": null,
            "max_height": null,
            "max_width": null,
            "min_height": null,
            "min_width": null,
            "object_fit": null,
            "object_position": null,
            "order": null,
            "overflow": null,
            "overflow_x": null,
            "overflow_y": null,
            "padding": null,
            "right": null,
            "top": null,
            "visibility": null,
            "width": null
          }
        },
        "7abbe45ae21e4bc294271fc4f29a8156": {
          "model_module": "@jupyter-widgets/controls",
          "model_module_version": "1.5.0",
          "model_name": "ProgressStyleModel",
          "state": {
            "_model_module": "@jupyter-widgets/controls",
            "_model_module_version": "1.5.0",
            "_model_name": "ProgressStyleModel",
            "_view_count": null,
            "_view_module": "@jupyter-widgets/base",
            "_view_module_version": "1.2.0",
            "_view_name": "StyleView",
            "bar_color": null,
            "description_width": ""
          }
        },
        "87da0cff44e54210a67788eddf447e34": {
          "model_module": "@jupyter-widgets/controls",
          "model_module_version": "1.5.0",
          "model_name": "DescriptionStyleModel",
          "state": {
            "_model_module": "@jupyter-widgets/controls",
            "_model_module_version": "1.5.0",
            "_model_name": "DescriptionStyleModel",
            "_view_count": null,
            "_view_module": "@jupyter-widgets/base",
            "_view_module_version": "1.2.0",
            "_view_name": "StyleView",
            "description_width": ""
          }
        },
        "8a13969e688c4d41bc73bcdfce43ec0c": {
          "model_module": "@jupyter-widgets/controls",
          "model_module_version": "1.5.0",
          "model_name": "FloatProgressModel",
          "state": {
            "_dom_classes": [],
            "_model_module": "@jupyter-widgets/controls",
            "_model_module_version": "1.5.0",
            "_model_name": "FloatProgressModel",
            "_view_count": null,
            "_view_module": "@jupyter-widgets/controls",
            "_view_module_version": "1.5.0",
            "_view_name": "ProgressView",
            "bar_style": "success",
            "description": "",
            "description_tooltip": null,
            "layout": "IPY_MODEL_967890ee114b40a295b7a8c8553f14ea",
            "max": 231508,
            "min": 0,
            "orientation": "horizontal",
            "style": "IPY_MODEL_37e24dd8d3b3434bbef259ce83297137",
            "value": 231508
          }
        },
        "8f6e82982cc14c778352a74855a26709": {
          "model_module": "@jupyter-widgets/controls",
          "model_module_version": "1.5.0",
          "model_name": "HTMLModel",
          "state": {
            "_dom_classes": [],
            "_model_module": "@jupyter-widgets/controls",
            "_model_module_version": "1.5.0",
            "_model_name": "HTMLModel",
            "_view_count": null,
            "_view_module": "@jupyter-widgets/controls",
            "_view_module_version": "1.5.0",
            "_view_name": "HTMLView",
            "description": "",
            "description_tooltip": null,
            "layout": "IPY_MODEL_ac8f1bd352dc4f26bfe8d174a9acc621",
            "placeholder": "​",
            "style": "IPY_MODEL_43cfbee60fe8483a96bf92940c745d05",
            "value": "Downloading (…)solve/main/vocab.txt: 100%"
          }
        },
        "90af23ac6fbf49a29891e09fdda287cc": {
          "model_module": "@jupyter-widgets/controls",
          "model_module_version": "1.5.0",
          "model_name": "DescriptionStyleModel",
          "state": {
            "_model_module": "@jupyter-widgets/controls",
            "_model_module_version": "1.5.0",
            "_model_name": "DescriptionStyleModel",
            "_view_count": null,
            "_view_module": "@jupyter-widgets/base",
            "_view_module_version": "1.2.0",
            "_view_name": "StyleView",
            "description_width": ""
          }
        },
        "967890ee114b40a295b7a8c8553f14ea": {
          "model_module": "@jupyter-widgets/base",
          "model_module_version": "1.2.0",
          "model_name": "LayoutModel",
          "state": {
            "_model_module": "@jupyter-widgets/base",
            "_model_module_version": "1.2.0",
            "_model_name": "LayoutModel",
            "_view_count": null,
            "_view_module": "@jupyter-widgets/base",
            "_view_module_version": "1.2.0",
            "_view_name": "LayoutView",
            "align_content": null,
            "align_items": null,
            "align_self": null,
            "border": null,
            "bottom": null,
            "display": null,
            "flex": null,
            "flex_flow": null,
            "grid_area": null,
            "grid_auto_columns": null,
            "grid_auto_flow": null,
            "grid_auto_rows": null,
            "grid_column": null,
            "grid_gap": null,
            "grid_row": null,
            "grid_template_areas": null,
            "grid_template_columns": null,
            "grid_template_rows": null,
            "height": null,
            "justify_content": null,
            "justify_items": null,
            "left": null,
            "margin": null,
            "max_height": null,
            "max_width": null,
            "min_height": null,
            "min_width": null,
            "object_fit": null,
            "object_position": null,
            "order": null,
            "overflow": null,
            "overflow_x": null,
            "overflow_y": null,
            "padding": null,
            "right": null,
            "top": null,
            "visibility": null,
            "width": null
          }
        },
        "97c8fe08e41d4bcb847531cf16b2608c": {
          "model_module": "@jupyter-widgets/controls",
          "model_module_version": "1.5.0",
          "model_name": "DescriptionStyleModel",
          "state": {
            "_model_module": "@jupyter-widgets/controls",
            "_model_module_version": "1.5.0",
            "_model_name": "DescriptionStyleModel",
            "_view_count": null,
            "_view_module": "@jupyter-widgets/base",
            "_view_module_version": "1.2.0",
            "_view_name": "StyleView",
            "description_width": ""
          }
        },
        "97cc952b46f84ff296c8464c3cb3c733": {
          "model_module": "@jupyter-widgets/controls",
          "model_module_version": "1.5.0",
          "model_name": "HTMLModel",
          "state": {
            "_dom_classes": [],
            "_model_module": "@jupyter-widgets/controls",
            "_model_module_version": "1.5.0",
            "_model_name": "HTMLModel",
            "_view_count": null,
            "_view_module": "@jupyter-widgets/controls",
            "_view_module_version": "1.5.0",
            "_view_name": "HTMLView",
            "description": "",
            "description_tooltip": null,
            "layout": "IPY_MODEL_adb0dce40f1d44f4a6fbf577bcf1172f",
            "placeholder": "​",
            "style": "IPY_MODEL_35390acc1128448582b09bd82eb88816",
            "value": " 570/570 [00:00&lt;00:00, 22.5kB/s]"
          }
        },
        "a067f6e2a47046568aea567fda32bde9": {
          "model_module": "@jupyter-widgets/controls",
          "model_module_version": "1.5.0",
          "model_name": "HTMLModel",
          "state": {
            "_dom_classes": [],
            "_model_module": "@jupyter-widgets/controls",
            "_model_module_version": "1.5.0",
            "_model_name": "HTMLModel",
            "_view_count": null,
            "_view_module": "@jupyter-widgets/controls",
            "_view_module_version": "1.5.0",
            "_view_name": "HTMLView",
            "description": "",
            "description_tooltip": null,
            "layout": "IPY_MODEL_585e7e648e824edf98c497ebb9604360",
            "placeholder": "​",
            "style": "IPY_MODEL_68c39412b11b4ecf8486e50b409ed272",
            "value": "Downloading (…)/main/tokenizer.json: 100%"
          }
        },
        "a333ff74c7da42d2865b7392a70f3a04": {
          "model_module": "@jupyter-widgets/controls",
          "model_module_version": "1.5.0",
          "model_name": "FloatProgressModel",
          "state": {
            "_dom_classes": [],
            "_model_module": "@jupyter-widgets/controls",
            "_model_module_version": "1.5.0",
            "_model_name": "FloatProgressModel",
            "_view_count": null,
            "_view_module": "@jupyter-widgets/controls",
            "_view_module_version": "1.5.0",
            "_view_name": "ProgressView",
            "bar_style": "success",
            "description": "",
            "description_tooltip": null,
            "layout": "IPY_MODEL_79314045ddce49189ff1d4c8a3e030bd",
            "max": 466062,
            "min": 0,
            "orientation": "horizontal",
            "style": "IPY_MODEL_7abbe45ae21e4bc294271fc4f29a8156",
            "value": 466062
          }
        },
        "abab2cfaa38d4911a8f7243fad790e1b": {
          "model_module": "@jupyter-widgets/controls",
          "model_module_version": "1.5.0",
          "model_name": "FloatProgressModel",
          "state": {
            "_dom_classes": [],
            "_model_module": "@jupyter-widgets/controls",
            "_model_module_version": "1.5.0",
            "_model_name": "FloatProgressModel",
            "_view_count": null,
            "_view_module": "@jupyter-widgets/controls",
            "_view_module_version": "1.5.0",
            "_view_name": "ProgressView",
            "bar_style": "success",
            "description": "",
            "description_tooltip": null,
            "layout": "IPY_MODEL_1d213f23dd934a1ebe5c6df135265d56",
            "max": 570,
            "min": 0,
            "orientation": "horizontal",
            "style": "IPY_MODEL_23946be363794299a6bd6889af9310e7",
            "value": 570
          }
        },
        "ac8f1bd352dc4f26bfe8d174a9acc621": {
          "model_module": "@jupyter-widgets/base",
          "model_module_version": "1.2.0",
          "model_name": "LayoutModel",
          "state": {
            "_model_module": "@jupyter-widgets/base",
            "_model_module_version": "1.2.0",
            "_model_name": "LayoutModel",
            "_view_count": null,
            "_view_module": "@jupyter-widgets/base",
            "_view_module_version": "1.2.0",
            "_view_name": "LayoutView",
            "align_content": null,
            "align_items": null,
            "align_self": null,
            "border": null,
            "bottom": null,
            "display": null,
            "flex": null,
            "flex_flow": null,
            "grid_area": null,
            "grid_auto_columns": null,
            "grid_auto_flow": null,
            "grid_auto_rows": null,
            "grid_column": null,
            "grid_gap": null,
            "grid_row": null,
            "grid_template_areas": null,
            "grid_template_columns": null,
            "grid_template_rows": null,
            "height": null,
            "justify_content": null,
            "justify_items": null,
            "left": null,
            "margin": null,
            "max_height": null,
            "max_width": null,
            "min_height": null,
            "min_width": null,
            "object_fit": null,
            "object_position": null,
            "order": null,
            "overflow": null,
            "overflow_x": null,
            "overflow_y": null,
            "padding": null,
            "right": null,
            "top": null,
            "visibility": null,
            "width": null
          }
        },
        "adb0dce40f1d44f4a6fbf577bcf1172f": {
          "model_module": "@jupyter-widgets/base",
          "model_module_version": "1.2.0",
          "model_name": "LayoutModel",
          "state": {
            "_model_module": "@jupyter-widgets/base",
            "_model_module_version": "1.2.0",
            "_model_name": "LayoutModel",
            "_view_count": null,
            "_view_module": "@jupyter-widgets/base",
            "_view_module_version": "1.2.0",
            "_view_name": "LayoutView",
            "align_content": null,
            "align_items": null,
            "align_self": null,
            "border": null,
            "bottom": null,
            "display": null,
            "flex": null,
            "flex_flow": null,
            "grid_area": null,
            "grid_auto_columns": null,
            "grid_auto_flow": null,
            "grid_auto_rows": null,
            "grid_column": null,
            "grid_gap": null,
            "grid_row": null,
            "grid_template_areas": null,
            "grid_template_columns": null,
            "grid_template_rows": null,
            "height": null,
            "justify_content": null,
            "justify_items": null,
            "left": null,
            "margin": null,
            "max_height": null,
            "max_width": null,
            "min_height": null,
            "min_width": null,
            "object_fit": null,
            "object_position": null,
            "order": null,
            "overflow": null,
            "overflow_x": null,
            "overflow_y": null,
            "padding": null,
            "right": null,
            "top": null,
            "visibility": null,
            "width": null
          }
        },
        "b176ac6c7db04230be63e18998be2dbb": {
          "model_module": "@jupyter-widgets/controls",
          "model_module_version": "1.5.0",
          "model_name": "FloatProgressModel",
          "state": {
            "_dom_classes": [],
            "_model_module": "@jupyter-widgets/controls",
            "_model_module_version": "1.5.0",
            "_model_name": "FloatProgressModel",
            "_view_count": null,
            "_view_module": "@jupyter-widgets/controls",
            "_view_module_version": "1.5.0",
            "_view_name": "ProgressView",
            "bar_style": "success",
            "description": "",
            "description_tooltip": null,
            "layout": "IPY_MODEL_fb442a79e2e64cbb99978ab398491f00",
            "max": 28,
            "min": 0,
            "orientation": "horizontal",
            "style": "IPY_MODEL_303b9a6f457a400584232607342f758d",
            "value": 28
          }
        },
        "c368024606fd426785d4aaf70ab0bf69": {
          "model_module": "@jupyter-widgets/controls",
          "model_module_version": "1.5.0",
          "model_name": "DescriptionStyleModel",
          "state": {
            "_model_module": "@jupyter-widgets/controls",
            "_model_module_version": "1.5.0",
            "_model_name": "DescriptionStyleModel",
            "_view_count": null,
            "_view_module": "@jupyter-widgets/base",
            "_view_module_version": "1.2.0",
            "_view_name": "StyleView",
            "description_width": ""
          }
        },
        "c792a92b03c34104a20acd6a5fb98494": {
          "model_module": "@jupyter-widgets/controls",
          "model_module_version": "1.5.0",
          "model_name": "HTMLModel",
          "state": {
            "_dom_classes": [],
            "_model_module": "@jupyter-widgets/controls",
            "_model_module_version": "1.5.0",
            "_model_name": "HTMLModel",
            "_view_count": null,
            "_view_module": "@jupyter-widgets/controls",
            "_view_module_version": "1.5.0",
            "_view_name": "HTMLView",
            "description": "",
            "description_tooltip": null,
            "layout": "IPY_MODEL_e73c3edcf8444f8d94bb71c6912eee48",
            "placeholder": "​",
            "style": "IPY_MODEL_cb14a6b8208a4d79b1eacc1b922d99d2",
            "value": " 28.0/28.0 [00:00&lt;00:00, 898B/s]"
          }
        },
        "cb14a6b8208a4d79b1eacc1b922d99d2": {
          "model_module": "@jupyter-widgets/controls",
          "model_module_version": "1.5.0",
          "model_name": "DescriptionStyleModel",
          "state": {
            "_model_module": "@jupyter-widgets/controls",
            "_model_module_version": "1.5.0",
            "_model_name": "DescriptionStyleModel",
            "_view_count": null,
            "_view_module": "@jupyter-widgets/base",
            "_view_module_version": "1.2.0",
            "_view_name": "StyleView",
            "description_width": ""
          }
        },
        "cf1b4c8e312c45a88f3eb87423e5cf22": {
          "model_module": "@jupyter-widgets/base",
          "model_module_version": "1.2.0",
          "model_name": "LayoutModel",
          "state": {
            "_model_module": "@jupyter-widgets/base",
            "_model_module_version": "1.2.0",
            "_model_name": "LayoutModel",
            "_view_count": null,
            "_view_module": "@jupyter-widgets/base",
            "_view_module_version": "1.2.0",
            "_view_name": "LayoutView",
            "align_content": null,
            "align_items": null,
            "align_self": null,
            "border": null,
            "bottom": null,
            "display": null,
            "flex": null,
            "flex_flow": null,
            "grid_area": null,
            "grid_auto_columns": null,
            "grid_auto_flow": null,
            "grid_auto_rows": null,
            "grid_column": null,
            "grid_gap": null,
            "grid_row": null,
            "grid_template_areas": null,
            "grid_template_columns": null,
            "grid_template_rows": null,
            "height": null,
            "justify_content": null,
            "justify_items": null,
            "left": null,
            "margin": null,
            "max_height": null,
            "max_width": null,
            "min_height": null,
            "min_width": null,
            "object_fit": null,
            "object_position": null,
            "order": null,
            "overflow": null,
            "overflow_x": null,
            "overflow_y": null,
            "padding": null,
            "right": null,
            "top": null,
            "visibility": null,
            "width": null
          }
        },
        "d211aae397b84cc8b75aa2254edfc89d": {
          "model_module": "@jupyter-widgets/controls",
          "model_module_version": "1.5.0",
          "model_name": "ProgressStyleModel",
          "state": {
            "_model_module": "@jupyter-widgets/controls",
            "_model_module_version": "1.5.0",
            "_model_name": "ProgressStyleModel",
            "_view_count": null,
            "_view_module": "@jupyter-widgets/base",
            "_view_module_version": "1.2.0",
            "_view_name": "StyleView",
            "bar_color": null,
            "description_width": ""
          }
        },
        "d6c9df7496274cd5b2775f110b68cedb": {
          "model_module": "@jupyter-widgets/controls",
          "model_module_version": "1.5.0",
          "model_name": "HTMLModel",
          "state": {
            "_dom_classes": [],
            "_model_module": "@jupyter-widgets/controls",
            "_model_module_version": "1.5.0",
            "_model_name": "HTMLModel",
            "_view_count": null,
            "_view_module": "@jupyter-widgets/controls",
            "_view_module_version": "1.5.0",
            "_view_name": "HTMLView",
            "description": "",
            "description_tooltip": null,
            "layout": "IPY_MODEL_cf1b4c8e312c45a88f3eb87423e5cf22",
            "placeholder": "​",
            "style": "IPY_MODEL_87da0cff44e54210a67788eddf447e34",
            "value": "Downloading model.safetensors: 100%"
          }
        },
        "d99d5c49c5864f9cb0ab9386dcd6391d": {
          "model_module": "@jupyter-widgets/base",
          "model_module_version": "1.2.0",
          "model_name": "LayoutModel",
          "state": {
            "_model_module": "@jupyter-widgets/base",
            "_model_module_version": "1.2.0",
            "_model_name": "LayoutModel",
            "_view_count": null,
            "_view_module": "@jupyter-widgets/base",
            "_view_module_version": "1.2.0",
            "_view_name": "LayoutView",
            "align_content": null,
            "align_items": null,
            "align_self": null,
            "border": null,
            "bottom": null,
            "display": null,
            "flex": null,
            "flex_flow": null,
            "grid_area": null,
            "grid_auto_columns": null,
            "grid_auto_flow": null,
            "grid_auto_rows": null,
            "grid_column": null,
            "grid_gap": null,
            "grid_row": null,
            "grid_template_areas": null,
            "grid_template_columns": null,
            "grid_template_rows": null,
            "height": null,
            "justify_content": null,
            "justify_items": null,
            "left": null,
            "margin": null,
            "max_height": null,
            "max_width": null,
            "min_height": null,
            "min_width": null,
            "object_fit": null,
            "object_position": null,
            "order": null,
            "overflow": null,
            "overflow_x": null,
            "overflow_y": null,
            "padding": null,
            "right": null,
            "top": null,
            "visibility": null,
            "width": null
          }
        },
        "dc40b97395bd47a99d078099397a4a2c": {
          "model_module": "@jupyter-widgets/controls",
          "model_module_version": "1.5.0",
          "model_name": "FloatProgressModel",
          "state": {
            "_dom_classes": [],
            "_model_module": "@jupyter-widgets/controls",
            "_model_module_version": "1.5.0",
            "_model_name": "FloatProgressModel",
            "_view_count": null,
            "_view_module": "@jupyter-widgets/controls",
            "_view_module_version": "1.5.0",
            "_view_name": "ProgressView",
            "bar_style": "success",
            "description": "",
            "description_tooltip": null,
            "layout": "IPY_MODEL_108fd4d1649a49f2b7773e10e6fccb48",
            "max": 440449768,
            "min": 0,
            "orientation": "horizontal",
            "style": "IPY_MODEL_d211aae397b84cc8b75aa2254edfc89d",
            "value": 440449768
          }
        },
        "e2435aebcb174abbb0ecf0f77da4df9f": {
          "model_module": "@jupyter-widgets/base",
          "model_module_version": "1.2.0",
          "model_name": "LayoutModel",
          "state": {
            "_model_module": "@jupyter-widgets/base",
            "_model_module_version": "1.2.0",
            "_model_name": "LayoutModel",
            "_view_count": null,
            "_view_module": "@jupyter-widgets/base",
            "_view_module_version": "1.2.0",
            "_view_name": "LayoutView",
            "align_content": null,
            "align_items": null,
            "align_self": null,
            "border": null,
            "bottom": null,
            "display": null,
            "flex": null,
            "flex_flow": null,
            "grid_area": null,
            "grid_auto_columns": null,
            "grid_auto_flow": null,
            "grid_auto_rows": null,
            "grid_column": null,
            "grid_gap": null,
            "grid_row": null,
            "grid_template_areas": null,
            "grid_template_columns": null,
            "grid_template_rows": null,
            "height": null,
            "justify_content": null,
            "justify_items": null,
            "left": null,
            "margin": null,
            "max_height": null,
            "max_width": null,
            "min_height": null,
            "min_width": null,
            "object_fit": null,
            "object_position": null,
            "order": null,
            "overflow": null,
            "overflow_x": null,
            "overflow_y": null,
            "padding": null,
            "right": null,
            "top": null,
            "visibility": null,
            "width": null
          }
        },
        "e73c3edcf8444f8d94bb71c6912eee48": {
          "model_module": "@jupyter-widgets/base",
          "model_module_version": "1.2.0",
          "model_name": "LayoutModel",
          "state": {
            "_model_module": "@jupyter-widgets/base",
            "_model_module_version": "1.2.0",
            "_model_name": "LayoutModel",
            "_view_count": null,
            "_view_module": "@jupyter-widgets/base",
            "_view_module_version": "1.2.0",
            "_view_name": "LayoutView",
            "align_content": null,
            "align_items": null,
            "align_self": null,
            "border": null,
            "bottom": null,
            "display": null,
            "flex": null,
            "flex_flow": null,
            "grid_area": null,
            "grid_auto_columns": null,
            "grid_auto_flow": null,
            "grid_auto_rows": null,
            "grid_column": null,
            "grid_gap": null,
            "grid_row": null,
            "grid_template_areas": null,
            "grid_template_columns": null,
            "grid_template_rows": null,
            "height": null,
            "justify_content": null,
            "justify_items": null,
            "left": null,
            "margin": null,
            "max_height": null,
            "max_width": null,
            "min_height": null,
            "min_width": null,
            "object_fit": null,
            "object_position": null,
            "order": null,
            "overflow": null,
            "overflow_x": null,
            "overflow_y": null,
            "padding": null,
            "right": null,
            "top": null,
            "visibility": null,
            "width": null
          }
        },
        "eb2e2a18649f4befa31bce1f35a4ea35": {
          "model_module": "@jupyter-widgets/controls",
          "model_module_version": "1.5.0",
          "model_name": "HBoxModel",
          "state": {
            "_dom_classes": [],
            "_model_module": "@jupyter-widgets/controls",
            "_model_module_version": "1.5.0",
            "_model_name": "HBoxModel",
            "_view_count": null,
            "_view_module": "@jupyter-widgets/controls",
            "_view_module_version": "1.5.0",
            "_view_name": "HBoxView",
            "box_style": "",
            "children": [
              "IPY_MODEL_6747e4273bbe490f8eb27a530f17ddb3",
              "IPY_MODEL_abab2cfaa38d4911a8f7243fad790e1b",
              "IPY_MODEL_97cc952b46f84ff296c8464c3cb3c733"
            ],
            "layout": "IPY_MODEL_2021de9374254bd48f055c5e18ddb613"
          }
        },
        "fb442a79e2e64cbb99978ab398491f00": {
          "model_module": "@jupyter-widgets/base",
          "model_module_version": "1.2.0",
          "model_name": "LayoutModel",
          "state": {
            "_model_module": "@jupyter-widgets/base",
            "_model_module_version": "1.2.0",
            "_model_name": "LayoutModel",
            "_view_count": null,
            "_view_module": "@jupyter-widgets/base",
            "_view_module_version": "1.2.0",
            "_view_name": "LayoutView",
            "align_content": null,
            "align_items": null,
            "align_self": null,
            "border": null,
            "bottom": null,
            "display": null,
            "flex": null,
            "flex_flow": null,
            "grid_area": null,
            "grid_auto_columns": null,
            "grid_auto_flow": null,
            "grid_auto_rows": null,
            "grid_column": null,
            "grid_gap": null,
            "grid_row": null,
            "grid_template_areas": null,
            "grid_template_columns": null,
            "grid_template_rows": null,
            "height": null,
            "justify_content": null,
            "justify_items": null,
            "left": null,
            "margin": null,
            "max_height": null,
            "max_width": null,
            "min_height": null,
            "min_width": null,
            "object_fit": null,
            "object_position": null,
            "order": null,
            "overflow": null,
            "overflow_x": null,
            "overflow_y": null,
            "padding": null,
            "right": null,
            "top": null,
            "visibility": null,
            "width": null
          }
        },
        "ff93677b68424e03828e4683294f8df1": {
          "model_module": "@jupyter-widgets/controls",
          "model_module_version": "1.5.0",
          "model_name": "HTMLModel",
          "state": {
            "_dom_classes": [],
            "_model_module": "@jupyter-widgets/controls",
            "_model_module_version": "1.5.0",
            "_model_name": "HTMLModel",
            "_view_count": null,
            "_view_module": "@jupyter-widgets/controls",
            "_view_module_version": "1.5.0",
            "_view_name": "HTMLView",
            "description": "",
            "description_tooltip": null,
            "layout": "IPY_MODEL_03794701e2334115a3ddcb99a4feeb36",
            "placeholder": "​",
            "style": "IPY_MODEL_222cef3ac6d3442a96c8a73c32c2e598",
            "value": " 232k/232k [00:00&lt;00:00, 7.58MB/s]"
          }
        }
      }
    }
  },
  "nbformat": 4,
  "nbformat_minor": 0
}
